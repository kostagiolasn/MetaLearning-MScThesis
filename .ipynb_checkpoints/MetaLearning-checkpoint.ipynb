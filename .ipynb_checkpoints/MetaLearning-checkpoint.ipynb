{
 "cells": [
  {
   "cell_type": "code",
   "execution_count": 1,
   "metadata": {
    "collapsed": true
   },
   "outputs": [],
   "source": [
    "%reload_ext autoreload\n",
    "%autoreload 2\n",
    "%matplotlib inline"
   ]
  },
  {
   "cell_type": "code",
   "execution_count": 2,
   "metadata": {
    "collapsed": true
   },
   "outputs": [],
   "source": [
    "import glob\n",
    "import numpy as np\n",
    "import torch\n",
    "import torch.nn as nn\n",
    "import torch.nn.functional as F\n",
    "import torch.autograd as autograd\n",
    "import torch.optim as optim\n",
    "from torch.autograd import Variable\n",
    "import matplotlib.pyplot as plt\n",
    "import random\n",
    "from tqdm import tqdm_notebook as tqdm\n",
    "import multiprocessing\n",
    "import os.path\n",
    "import csv\n",
    "import copy\n",
    "import joblib\n",
    "from torchvision import datasets\n",
    "import torchvision\n",
    "import seaborn as sns; sns.set(color_codes=True)\n",
    "sns.set_style(\"white\")"
   ]
  },
  {
   "cell_type": "code",
   "execution_count": 3,
   "metadata": {
    "collapsed": true
   },
   "outputs": [],
   "source": [
    "# Change USE_CUDA to True when running on GPU\n",
    "USE_CUDA  = True\n",
    "\n",
    "def w(v):\n",
    "    if USE_CUDA:\n",
    "        return v.cuda()\n",
    "    return v\n"
   ]
  },
  {
   "cell_type": "code",
   "execution_count": 4,
   "metadata": {
    "collapsed": true
   },
   "outputs": [],
   "source": [
    "!mkdir -p _cache\n",
    "cache = joblib.Memory(location='_cache', verbose=0)\n"
   ]
  },
  {
   "cell_type": "code",
   "execution_count": 5,
   "metadata": {
    "collapsed": true
   },
   "outputs": [],
   "source": [
    "# This function is responsible for disabling the propagation of certain variable gradients\n",
    "def detach_var(v):\n",
    "    var = w(Variable(v.data, requires_grad=True))\n",
    "    var.retain_grad()\n",
    "    return var"
   ]
  },
  {
   "cell_type": "code",
   "execution_count": 6,
   "metadata": {
    "collapsed": true
   },
   "outputs": [],
   "source": [
    "def fit(optimizer_network, meta_optimizer, optimizee_obj_function, optimizee_network,\n",
    "        iterations_to_optimize, iterations_to_unroll, out_mul,\n",
    "        should_train = True):\n",
    "    \"\"\"\n",
    "    Arguments: \n",
    "    - optimizer_network (the optimizer network we use, here the LSTM)\n",
    "    - meta_optimizer (the optimizer of the optimizer network, e.g. Adam, SGD + nesterov, RMSprop, etc.)\n",
    "    - optimizee_obj_function (the optimizee's objective function)\n",
    "    - optimizee_network (the optimizee network)\n",
    "    - epochs (total epochs for training)\n",
    "    - iterations_to_optimize (iterations in every epoch)\n",
    "    - should_train (if should_train is True, then we just train the optimizer, else we evaluate)\n",
    "    \"\"\"\n",
    "    \n",
    "    if should_train:\n",
    "        optimizer_network.train()\n",
    "    else:\n",
    "        optimizer_network.eval()\n",
    "        unroll = 1\n",
    "\n",
    "    optimizee_obj_function = optimizee_obj_function(training=should_train)\n",
    "    optimizee = w(optimizee_network())\n",
    "    \n",
    "    # Counting the parameters of the optimizee\n",
    "    n_params = 0\n",
    "    for param in optimizee.parameters():\n",
    "        n_params += int(np.prod(param.size()))\n",
    "        \n",
    "    hidden_states = [w(Variable(torch.zeros(n_params, optimizer_network.hidden_size))) for _ in range(2)]\n",
    "    cell_states = [w(Variable(torch.zeros(n_params, optimizer_network.hidden_size))) for _ in range(2)]\n",
    "    \n",
    "    losses_list = []\n",
    "    \n",
    "    if should_train:\n",
    "        meta_optimizer.zero_grad()\n",
    "        \n",
    "    total_losses = None\n",
    "    \n",
    "    for iteration in range(iterations_to_optimize):\n",
    "        \n",
    "        # The loss of the current iteration\n",
    "        current_loss = optimizee(optimizee_obj_function)\n",
    "        \n",
    "        # Since the objective function of the optimizer is equal to the sum of the optimizee's losses\n",
    "        # we want to measure the loss of every iteration and add it to the total sum of losses\n",
    "        if total_losses is None:\n",
    "            total_losses = current_loss\n",
    "        else:\n",
    "            total_losses += current_loss\n",
    "            \n",
    "        losses_list.append(current_loss.data.cpu().numpy())\n",
    "        # Here dloss/dx is computed for every parameter x that has requires_grad = True\n",
    "        # These are accumulated into x.grad for every parameter x\n",
    "        # This is equal to x.grad += dloss/dx\n",
    "        \n",
    "        # We get the optimizee's gradients but we also retain the graph because\n",
    "        # we need to run backpropagation again when we optimize the optimizer\n",
    "        current_loss.backward(retain_graph = True)\n",
    "        \n",
    "        offset = 0\n",
    "        result_params = {}\n",
    "        \n",
    "        # These will be the new parameters. We will update all the parameters, cell and hidden states\n",
    "        # by iterating through the optimizee's \"all_named parameters\"\n",
    "        hidden_states2 = [w(Variable(torch.zeros(n_params, optimizer_network.hidden_size))) for _ in range(2)]\n",
    "        cell_states2 = [w(Variable(torch.zeros(n_params, optimizer_network.hidden_size))) for _ in range(2)]\n",
    "        \n",
    "        for name, param in optimizee.all_named_parameters():\n",
    "            current_size = int(np.prod(param.size()))\n",
    "            # We want to disconnect the gradients of some variables but not all, each time.\n",
    "            \n",
    "            # We do this in order to disconnect the gradients of the offset:offset+current_size\n",
    "            # parameters but still get the gradients of the rest.\n",
    "            gradients = detach_var(param.grad.view(current_size, 1))\n",
    "            \n",
    "            # Call the optimizer and compute the new parameters\n",
    "            updates, new_hidden, new_cell = optimizer_network(\n",
    "                gradients,\n",
    "                [h[offset:offset+current_size] for h in hidden_states],\n",
    "                [c[offset:offset+current_size] for c in cell_states]\n",
    "            )\n",
    "            \n",
    "            # Here we replace the old parameters with the new values\n",
    "            for i in range(len(new_hidden)):\n",
    "                hidden_states2[i][offset:offset+current_size] = new_hidden[i]\n",
    "                cell_states2[i][offset:offset+current_size] = new_cell[i]\n",
    "            \n",
    "            result_params[name] = param + updates.view(*param.size()) * out_mul\n",
    "            result_params[name].retain_grad()\n",
    "        \n",
    "        # If we have reached the number of iterations needed to update the optimizer\n",
    "        # we run backprop on the optimizer network\n",
    "        if iteration % iterations_to_unroll == 0:\n",
    "            if should_train:\n",
    "                # zero_grad() clears the gradients of all optimized tensors\n",
    "                meta_optimizer.zero_grad()\n",
    "                # we compute the gradient of the total losses  (i.e. the optimizer's loss function)\n",
    "                # with respect to the optimizer's parameters\n",
    "                total_losses.backward()\n",
    "                # we finally perform the optimization step, i.e. the updates\n",
    "                meta_optimizer.step()\n",
    "                \n",
    "            # Since we did the update on the optimizer network\n",
    "            # we overwrite the total_losses\n",
    "            total_losses = None\n",
    "            \n",
    "            # Here we detach the state variables because they are not propagated\n",
    "            # to the graph (see Figure 2 of the paper for details)\n",
    "            optimizee = w(optimizee_network(**{k: detach_var(v) for k, v in result_params.items()}))\n",
    "            hidden_states = [detach_var(v) for v in hidden_states2]\n",
    "            cell_states = [detach_var(v) for v in cell_states2]\n",
    "        else:\n",
    "            # Otherwise, we just create the next optimizee objective funtion\n",
    "            optimizee = w(optimizee_network(**result_params))\n",
    "            hidden_states = hidden_states2\n",
    "            cell_states = cell_states2\n",
    "            \n",
    "    return losses_list"
   ]
  },
  {
   "cell_type": "code",
   "execution_count": 7,
   "metadata": {
    "collapsed": true
   },
   "outputs": [],
   "source": [
    "@cache.cache\n",
    "def main_loop(optimizee_obj_function, optimizee_network, preprocessing = False,\n",
    "        epochs = 20, iterations_to_optimize = 100, iterations_to_unroll = 20, \n",
    "        n_tests = 100, lr = 0.001, out_mul = 1.0):\n",
    "    \n",
    "    optimizer_network = w(OptimizerNetwork(preprocessing = preprocessing))\n",
    "    \n",
    "    # To construct an Optimizer you need to give it an iterable containing the parameters to optimize\n",
    "    meta_optimizer = optim.Adam(optimizer_network.parameters(), lr = lr)\n",
    "    \n",
    "    # Initialize dummy variables for the best_net object and the best_loss\n",
    "    best_net = None\n",
    "    best_loss = 10000000000000000\n",
    "    \n",
    "    for _ in tqdm(range(epochs), 'epochs'):\n",
    "        for _ in tqdm(range(iterations_to_optimize), 'iterations'):\n",
    "            fit(optimizer_network, meta_optimizer, optimizee_obj_function, optimizee_network,\n",
    "                iterations_to_optimize, iterations_to_unroll, out_mul,\n",
    "                should_train = True)\n",
    "            \n",
    "        current_loss = (np.mean([\n",
    "                np.sum(fit(optimizer_network, meta_optimizer, optimizee_obj_function, optimizee_network,\n",
    "                iterations_to_optimize, iterations_to_unroll, out_mul,\n",
    "                should_train = False))\n",
    "                for _ in tqdm(range(n_tests), 'tests')\n",
    "               ]))\n",
    "        print(current_loss)\n",
    "        \n",
    "        if current_loss < best_loss:\n",
    "            best_loss = current_loss\n",
    "            best_net = copy.deepcopy(optimizer_network.state_dict())\n",
    "    \n",
    "    return best_loss, best_net"
   ]
  },
  {
   "cell_type": "markdown",
   "metadata": {},
   "source": [
    "For our first experiment we are going to use randomly generated $W$ and $y$. The matrix $W$ will be of dimensions 10x10 and will correspond to the weights that we want to learn, and the vector $y$ will be a 10-element vector that will represent the labels. Our optimizer will try to find a 10-element vector $\\theta$ that, when multiplied by $W$ will be as close as possible to y. Hence, our objective function that we want to minimize will be the squared error, i.e.:\n",
    "\n",
    "$$\n",
    "\\sum^{n}_{k = 1} (w_{i}^T \\cdot \\theta_{i} - y_{i})^{2}\n",
    "$$\n",
    "\n",
    "where $w_{i}$ is the $i$-th column vector of the $W$ matrix."
   ]
  },
  {
   "cell_type": "code",
   "execution_count": 8,
   "metadata": {
    "collapsed": true
   },
   "outputs": [],
   "source": [
    "class RandomQuadraticLoss:\n",
    "    def __init__(self, **kwargs):\n",
    "        self.W = w(Variable(torch.randn(10, 10)))\n",
    "        self.y = w(Variable(torch.randn(10)))\n",
    "    \n",
    "    def get_loss(self, theta):\n",
    "        return torch.sum((self.W.matmul(theta) - self.y) ** 2)\n",
    "    \n",
    "\n",
    "class QuadraticOptimizee(nn.Module):\n",
    "    def __init__(self, theta = None):\n",
    "        super().__init__()\n",
    "        \n",
    "        if theta is None:\n",
    "            self.theta = nn.Parameter(torch.zeros(10))\n",
    "        else:\n",
    "            self.theta = theta\n",
    "            \n",
    "    def forward(self, target):\n",
    "        return target.get_loss(self.theta)\n",
    "    \n",
    "    def all_named_parameters(self):\n",
    "        return [('theta', self.theta)]\n",
    "    \n",
    "# Here we declare the optimizer. Here we have a parameter called preproc which is used in order to implement\n",
    "# what is described as \"Gradient preprocessing\" in Appendix A. Generally the input to the optimizer network is\n",
    "# a gradient which can get very high or very small values, especially when we're dealing with complex architectures.\n",
    "# Due to this, the optimizer training is susceptible to high variance in gradient values, as neural nets prefer to\n",
    "# deal with a relatively small range of values. Therefore a means of normalizing the gradients needs to be implemented.\n",
    "\n",
    "# The preprocessing factor is the p > 0 parameter in that paper section, which controls how small gradients are disregarded. It has\n",
    "# a default value of 10.0\n",
    "\n",
    "class OptimizerNetwork(nn.Module):\n",
    "    def __init__(self, preprocessing = False, hidden_size = 20, preprocessing_factor = 10.0):\n",
    "        super(OptimizerNetwork, self).__init__()\n",
    "        self.hidden_size = hidden_size\n",
    "        \n",
    "        if preprocessing:\n",
    "            # Since we have the preprocessing flag enabled, we want the neural network\n",
    "            # to have two arguments and not just the gradient (see the forward function)\n",
    "            self.recurs = nn.LSTMCell(2, hidden_size)\n",
    "        else:\n",
    "            self.recurs = nn.LSTMCell(1, hidden_size)\n",
    "            \n",
    "        self.recurs2 = nn.LSTMCell(hidden_size, hidden_size)\n",
    "        self.output = nn.Linear(hidden_size, 1)\n",
    "        self.preprocessing = preprocessing\n",
    "        self.preprocessing_factor = preprocessing_factor\n",
    "        self.preprocessing_threshold = np.exp(-preprocessing_factor)\n",
    "        \n",
    "    def forward(self, inp, hidden, cell):\n",
    "        if self.preprocessing:\n",
    "            inp = inp.data\n",
    "            inp2 = w(torch.zeros(inp.size()[0], 2))\n",
    "            \n",
    "            # If the absolute value is greater or equal than the preprocessing threshold\n",
    "            # (see the condition in the first part of the gradient winged formula) we pass\n",
    "            # the log of the absolute value of the gradient divided by the preprocessing factor\n",
    "            # as the first parameter, and we pass the sign of the gradient as the second parameter.\n",
    "            keep_grads = torch.abs(inp) >= self.preprocessing_threshold\n",
    "            inp2[:, 0][keep_grads] = torch.log(torch.abs(inp[keep_grads]) + 1e-8) / self.preprocessing_factor\n",
    "            inp2[:, 1][keep_grads] = torch.sign(inp[keep_grads])\n",
    "            \n",
    "            # Else we pass -1 as the first parameter and then a scaled value of the gradient.\n",
    "            inp2[:, 0][~keep_grads] = -1\n",
    "            inp2[:, 1][~keep_grads] = float(np.exp(self.preprocessing_factor)) * inp[~keep_grads]\n",
    "            inp = w(Variable(inp2))\n",
    "            \n",
    "        hidden0, cell0 = self.recurs(inp, (hidden[0], cell[0]))\n",
    "        hidden1, cell1 = self.recurs2(hidden0, (hidden[1], cell[1]))\n",
    "        \n",
    "        return self.output(hidden1), (hidden0, hidden1), (cell0, cell1)"
   ]
  },
  {
   "cell_type": "markdown",
   "metadata": {},
   "source": [
    "Now, we are going to try several values for the learning rate, in order to find the most promising one for our first experiment which is going to be to minimize the random quadratic loss we declared previously. We are going to use 20 epochs in order to find the best value for our learning rate."
   ]
  },
  {
   "cell_type": "code",
   "execution_count": 9,
   "metadata": {
    "collapsed": false
   },
   "outputs": [
    {
     "name": "stdout",
     "output_type": "stream",
     "text": [
      "Testing lr: 1.0\n",
      "1.06151e+06\n",
      "3.87047e+06\n",
      "407286.0\n",
      "534244.0\n",
      "765852.0\n",
      "4.57189e+09\n",
      "8.33982e+06\n",
      "2.33666e+07\n",
      "4.39066e+06\n",
      "9.84207e+07\n",
      "6.51848e+07\n",
      "6.78243e+06\n",
      "4.01837e+06\n",
      "6.02287e+06\n",
      "4.35796e+06\n",
      "3.00438e+06\n",
      "1.77599e+06\n",
      "4.84486e+06\n",
      "4.34985e+06\n",
      "1.25905e+07\n",
      "407286.0\n",
      "Testing lr: 0.3\n",
      "4031.45\n",
      "455.328\n",
      "273.603\n",
      "220.825\n",
      "230.273\n",
      "435.548\n",
      "534.906\n",
      "157.809\n",
      "188.834\n",
      "200.797\n",
      "180.659\n",
      "193.215\n",
      "344.052\n",
      "228.92\n",
      "5933.04\n",
      "1.53512e+06\n",
      "130894.0\n",
      "51884.8\n",
      "31189.5\n",
      "17763.8\n",
      "157.809\n",
      "Testing lr: 0.1\n",
      "148.812\n",
      "159.561\n",
      "114.296\n",
      "109.882\n",
      "97.5192\n",
      "94.0384\n",
      "93.3921\n",
      "92.5606\n",
      "17568.0\n",
      "1293.77\n",
      "588.901\n",
      "216.998\n",
      "14470.8\n",
      "4072.27\n",
      "18896.7\n",
      "1848.27\n",
      "940.256\n",
      "704.581\n",
      "1140.3\n",
      "1046.93\n",
      "92.5606\n",
      "Testing lr: 0.03\n",
      "77.7415\n",
      "64.2912\n",
      "66.536\n",
      "81.7156\n",
      "72.0763\n",
      "64.8456\n",
      "105.623\n",
      "83.2872\n",
      "118.904\n",
      "75.2233\n",
      "73.6337\n",
      "76.4187\n",
      "72.8018\n",
      "137.485\n",
      "336.7\n",
      "157.997\n",
      "148.569\n",
      "117.812\n",
      "140.621\n",
      "131.31\n",
      "64.2912\n",
      "Testing lr: 0.01\n",
      "71.6388\n",
      "116.962\n",
      "79.9034\n",
      "76.8655\n",
      "69.0387\n",
      "69.4021\n",
      "131.285\n",
      "73.5042\n",
      "70.6852\n",
      "68.3279\n",
      "89.895\n",
      "74.8241\n",
      "88.2639\n",
      "73.7223\n",
      "72.2352\n",
      "72.5936\n",
      "61.9325\n",
      "75.8986\n",
      "81.9282\n",
      "92.6235\n",
      "61.9325\n",
      "Testing lr: 0.003\n",
      "128.506\n",
      "89.1087\n",
      "83.9172\n",
      "71.0002\n",
      "68.5996\n",
      "62.1503\n",
      "83.482\n",
      "62.9851\n",
      "49.4244\n",
      "77.9101\n",
      "80.9464\n",
      "65.1348\n",
      "63.7665\n",
      "76.3046\n",
      "74.2475\n",
      "68.0361\n",
      "112.031\n",
      "60.096\n",
      "53.3002\n",
      "84.2202\n",
      "49.4244\n",
      "Testing lr: 0.001\n",
      "148.041\n",
      "111.213\n",
      "119.657\n",
      "107.799\n",
      "83.7254\n",
      "85.2091\n",
      "79.536\n",
      "80.2731\n",
      "85.5503\n",
      "69.7977\n",
      "87.4659\n",
      "76.0696\n",
      "71.2032\n",
      "63.9899\n",
      "104.317\n",
      "66.4163\n",
      "65.6255\n",
      "80.2992\n",
      "95.2844\n",
      "74.1366\n",
      "63.9899\n",
      "Testing lr: 0.0003\n",
      "176.429\n",
      "142.943\n",
      "140.769\n",
      "142.413\n",
      "118.521\n",
      "125.32\n",
      "107.735\n",
      "79.5931\n",
      "97.0142\n",
      "78.5376\n",
      "89.6182\n",
      "76.5031\n",
      "72.6753\n",
      "84.1005\n",
      "76.2829\n",
      "86.2295\n",
      "87.6755\n",
      "88.4048\n",
      "69.8041\n",
      "73.1729\n",
      "69.8041\n",
      "Testing lr: 0.0001\n",
      "349.413\n",
      "246.022\n",
      "202.229\n",
      "199.942\n",
      "186.187\n",
      "171.298\n",
      "142.552\n",
      "155.862\n",
      "162.225\n",
      "139.371\n",
      "135.624\n",
      "129.734\n",
      "128.342\n",
      "116.681\n",
      "112.889\n",
      "91.2936\n",
      "101.152\n",
      "95.5947\n",
      "95.7162\n",
      "82.5615\n",
      "82.5615\n",
      "Testing lr: 3e-05\n",
      "215.464\n",
      "180.346\n",
      "206.656\n",
      "205.421\n",
      "183.36\n",
      "147.71\n",
      "158.265\n",
      "164.579\n",
      "133.839\n",
      "131.784\n",
      "134.118\n",
      "147.592\n",
      "136.328\n",
      "113.987\n",
      "105.521\n",
      "109.674\n",
      "108.078\n",
      "108.575\n",
      "100.049\n",
      "93.4927\n",
      "93.4927\n",
      "Testing lr: 1e-05\n",
      "1.43284e+06\n",
      "721795.0\n",
      "326591.0\n",
      "86835.8\n",
      "11618.3\n",
      "2070.87\n",
      "1358.16\n",
      "1163.29\n",
      "1294.17\n",
      "1345.95\n",
      "1371.73\n",
      "1126.19\n",
      "1065.77\n",
      "921.828\n",
      "857.698\n",
      "797.637\n",
      "662.654\n",
      "595.868\n",
      "509.059\n",
      "432.068\n",
      "432.068\n",
      "\n"
     ]
    }
   ],
   "source": [
    "for lr in tqdm([1.0, 0.3, 0.1, 0.03, 0.01, 0.003, 0.001, 0.0003, 0.0001, 0.00003, 0.00001], 'all'):\n",
    "    print('Testing lr:', lr)\n",
    "    print(main_loop(RandomQuadraticLoss, QuadraticOptimizee, lr = lr)[0])"
   ]
  },
  {
   "cell_type": "markdown",
   "metadata": {},
   "source": [
    "Now we are going to see what the best loss is for lr = 0.003 if we train for 100 epochs."
   ]
  },
  {
   "cell_type": "code",
   "execution_count": 11,
   "metadata": {
    "collapsed": false
   },
   "outputs": [
    {
     "name": "stdout",
     "output_type": "stream",
     "text": [
      "108.609\n",
      "113.748\n",
      "95.8785\n",
      "80.122\n",
      "67.8811\n",
      "68.2783\n",
      "73.4936\n",
      "76.2695\n",
      "69.71\n",
      "75.4591\n",
      "62.1857\n",
      "70.8323\n",
      "68.0931\n",
      "66.3973\n",
      "66.408\n",
      "69.6129\n",
      "56.3327\n",
      "78.2214\n",
      "71.7585\n",
      "66.4894\n",
      "104.711\n",
      "59.9116\n",
      "58.0487\n",
      "49.6069\n",
      "50.986\n",
      "56.1802\n",
      "62.3629\n",
      "69.0708\n",
      "68.3075\n",
      "81.6906\n",
      "86.4789\n",
      "69.5712\n",
      "69.7695\n",
      "73.9057\n",
      "76.6104\n",
      "78.7577\n",
      "68.8004\n",
      "59.5378\n",
      "53.0639\n",
      "61.9818\n",
      "76.6452\n",
      "79.668\n",
      "68.75\n",
      "67.7073\n",
      "73.4843\n",
      "65.4782\n",
      "70.7025\n",
      "87.2304\n",
      "60.1031\n",
      "60.104\n",
      "66.8577\n",
      "58.6507\n",
      "86.7694\n",
      "61.647\n",
      "86.2959\n",
      "62.7017\n",
      "90.4795\n",
      "75.8363\n",
      "70.1006\n",
      "61.7037\n",
      "74.1913\n",
      "72.0104\n",
      "59.5791\n",
      "64.6863\n",
      "66.3685\n",
      "78.9243\n",
      "84.673\n",
      "110.828\n",
      "75.9578\n",
      "83.2141\n",
      "73.8711\n",
      "63.5453\n",
      "83.8761\n",
      "70.7716\n",
      "97.542\n",
      "80.7705\n",
      "64.2083\n",
      "69.195\n",
      "62.4287\n",
      "96.1141\n",
      "81.9226\n",
      "57.3749\n",
      "67.7085\n",
      "64.8066\n",
      "86.1018\n",
      "76.3642\n",
      "69.2513\n",
      "67.9408\n",
      "75.3665\n",
      "85.1124\n",
      "76.6482\n",
      "76.1039\n",
      "75.8512\n",
      "76.2322\n",
      "73.3325\n",
      "64.3135\n",
      "77.3655\n",
      "84.3747\n",
      "74.4416\n",
      "77.4708\n",
      "\n",
      "49.6069\n"
     ]
    }
   ],
   "source": [
    "best_loss, best_quadratic_optimizer = main_loop(RandomQuadraticLoss, QuadraticOptimizee, lr = 0.003, epochs = 100)\n",
    "print(best_loss)"
   ]
  },
  {
   "cell_type": "markdown",
   "metadata": {},
   "source": [
    "Now we will find the best learning rate values for a selection of standard optimization algorithms (namely Adam, RMSprop, SGD and SGD with nesterov momentum)."
   ]
  },
  {
   "cell_type": "code",
   "execution_count": 19,
   "metadata": {
    "collapsed": true
   },
   "outputs": [],
   "source": [
    "@cache.cache\n",
    "def fit_normal(optimizee_objective_function, optimizee_network, optimizer_name,\n",
    "               n_tests = 100, epochs = 100, **kwargs):\n",
    "    results = []\n",
    "    \n",
    "    for i in tqdm(range(n_tests), 'tests'):\n",
    "        objective_function = optimizee_objective_function(training = False)\n",
    "        optimizee = w(optimizee_network())\n",
    "        # Get the parameters of the optimizee in order to optimize them\n",
    "        \n",
    "        # Initialize the optimizer object\n",
    "        if optimizer_name == 'Adam':\n",
    "            optimizer = optim.Adam(optimizee.parameters(), **kwargs)\n",
    "        elif optimizer_name == 'RMSprop':\n",
    "            optimizer = optim.RMSprop(optimizee.parameters(), **kwargs)\n",
    "        elif optimizer_name == 'SGD':\n",
    "            optimizer = optim.SGD(optimizee.parameters(), **kwargs)\n",
    "        else:\n",
    "            optimizer = optim.SGD(optimizee.parameters(), **kwargs)\n",
    "        total_loss = []\n",
    "        for _ in range(epochs):\n",
    "            current_loss = optimizee(objective_function)\n",
    "            \n",
    "            total_loss.append(current_loss.data.cpu().numpy())\n",
    "            \n",
    "            optimizer.zero_grad()\n",
    "            current_loss.backward()\n",
    "            optimizer.step()\n",
    "        results.append(total_loss)\n",
    "    return results\n",
    "\n",
    "def find_best_lr_normal(optimizee_objective_function, optimizee_network, optimizer, **extra_kwargs):\n",
    "    best_loss = 10000000000000000.0\n",
    "    best_lr = 0.0\n",
    "    \n",
    "    for lr in tqdm([1.0, 0.3, 0.1, 0.03, 0.01, 0.003, 0.001, 0.0003, 0.0001, 0.00003, 0.00001], 'Learning Rates'):\n",
    "        loss = best_loss + 1.0\n",
    "        loss = np.mean([np.sum(s) for s in fit_normal(optimizee_objective_function, optimizee_network, optimizer, \n",
    "                                                      lr = lr, **extra_kwargs)])\n",
    "\n",
    "        if loss < best_loss:\n",
    "            best_loss = loss\n",
    "            best_lr = lr\n",
    "            \n",
    "    return best_loss, best_lr\n",
    "    "
   ]
  },
  {
   "cell_type": "code",
   "execution_count": 34,
   "metadata": {
    "collapsed": false
   },
   "outputs": [
    {
     "name": "stdout",
     "output_type": "stream",
     "text": [
      "Adam {}\n",
      "\n",
      "(98.751038, 0.1)\n",
      "RMSprop {}\n",
      "\n",
      "(133.53325, 0.03)\n",
      "SGD {}\n",
      "\n",
      "(206.52986, 0.01)\n",
      "SGD + Momentum {'nesterov': True, 'momentum': 0.9}\n",
      "\n",
      "(107.54028, 0.01)\n"
     ]
    }
   ],
   "source": [
    "OPTIMIZER_NAMES = ['Adam', 'RMSprop', 'SGD', 'SGD + Momentum']\n",
    "OPTIMIZER_PARAMETERS = [{}, {}, {}, {'nesterov': True, 'momentum': 0.9}]\n",
    "for optimizer_name, kwargs in zip(OPTIMIZER_NAMES, OPTIMIZER_PARAMETERS):\n",
    "    print(find_best_lr_normal(RandomQuadraticLoss, QuadraticOptimizee, optimizer_name, **kwargs))"
   ]
  },
  {
   "cell_type": "code",
   "execution_count": null,
   "metadata": {
    "collapsed": false
   },
   "outputs": [
    {
     "name": "stdout",
     "output_type": "stream",
     "text": [
      "\n",
      "\n",
      "\n",
      "\n"
     ]
    }
   ],
   "source": [
    "QUAD_LEARNING_RATES = [0.1, 0.03, 0.01, 0.01]\n",
    "fit_data = np.zeros((100, 100, len(OPTIMIZER_NAMES) + 1))\n",
    "\n",
    "for i, ((opt, extra_kwargs), lr) in enumerate(zip(zip(OPTIMIZER_NAMES,OPTIMIZER_PARAMETERS), QUAD_LEARNING_RATES)):\n",
    "    np.random.seed(1234)\n",
    "    fit_data[:, :, i] = np.array(fit_normal(RandomQuadraticLoss, QuadraticOptimizee, opt, lr = lr, **extra_kwargs))\n",
    "    \n",
    "opt = w(OptimizerNetwork())\n",
    "opt.load_state_dict(best_quadratic_optimizer)\n",
    "np.random.seed(1234)\n",
    "fit_data[:, :, len(OPTIMIZER_NAMES)] = np.array([fit(opt, None, RandomQuadraticLoss, QuadraticOptimizee, \n",
    "                                                1, 100, out_mul = 1.0, should_train = False) for _ in range(100)])\n"
   ]
  },
  {
   "cell_type": "markdown",
   "metadata": {},
   "source": [
    "Finally, we will plot the learning curves for the meta-optimized network (LSTM) vs the selection of the alternative standard algorithms."
   ]
  },
  {
   "cell_type": "code",
   "execution_count": 43,
   "metadata": {
    "collapsed": false
   },
   "outputs": [
    {
     "data": {
      "image/png": "[encoded data removed]",
      "text/plain": [
       "<matplotlib.figure.Figure at 0x7fdf7bebf908>"
      ]
     },
     "metadata": {},
     "output_type": "display_data"
    }
   ],
   "source": [
    "ax = sns.tsplot(data = fit_data[:, :, :], condition = OPTIMIZER_NAMES + ['LSTM'], linestyle = '--', color = ['r', 'b', 'g', 'k', 'y'])\n",
    "ax.lines[-1].set_linestyle('-')\n",
    "ax.legend()\n",
    "plt.yscale('log')\n",
    "plt.xlabel('steps')\n",
    "plt.ylabel('loss')\n",
    "plt.title(\"Comparison of learning curves between a selection of standard optimizers (dashed lines) and the meta-learned optimizer (straight line) in learning random quadratic functions\")\n",
    "plt.show()"
   ]
  },
  {
   "cell_type": "code",
   "execution_count": 45,
   "metadata": {
    "collapsed": false
   },
   "outputs": [
    {
     "name": "stdout",
     "output_type": "stream",
     "text": [
      "[[[  2.05910664e+01   7.19116449e+00   6.52257824e+00   1.17520151e+01\n",
      "     1.20793476e+01]\n",
      "  [  1.21002617e+01   4.96917057e+00   4.65666485e+00   6.86576700e+00\n",
      "     1.20793476e+01]\n",
      "  [  8.24866867e+00   2.01531506e+00   3.66957617e+00   5.83566284e+00\n",
      "     1.20793476e+01]\n",
      "  ..., \n",
      "  [  3.15800619e+00   2.32721210e-01   9.98866111e-02   1.22081377e-01\n",
      "     1.20793476e+01]\n",
      "  [  3.15650415e+00   2.93180913e-01   9.74752903e-02   1.20210342e-01\n",
      "     1.20793476e+01]\n",
      "  [  3.15493321e+00   4.13443983e-01   9.51360837e-02   1.18367344e-01\n",
      "     1.20793476e+01]]\n",
      "\n",
      " [[  1.10065126e+01   1.15280828e+01   9.95348835e+00   4.65621948e+00\n",
      "     9.83985043e+00]\n",
      "  [  5.87023687e+00   9.43015289e+00   8.54964161e+00   1.80939066e+00\n",
      "     9.83985043e+00]\n",
      "  [  3.34805965e+00   2.83703804e+00   7.68542004e+00   1.66375744e+00\n",
      "     9.83985043e+00]\n",
      "  ..., \n",
      "  [  5.46917796e-01   4.07778136e-02   2.20295477e+00   9.01711166e-01\n",
      "     9.83985043e+00]\n",
      "  [  5.46907723e-01   4.78594340e-02   2.19070864e+00   9.00469720e-01\n",
      "     9.83985043e+00]\n",
      "  [  5.46911955e-01   5.61457798e-02   2.17855716e+00   8.99230063e-01\n",
      "     9.83985043e+00]]\n",
      "\n",
      " [[  1.73416233e+01   4.30450726e+00   1.31846933e+01   1.69941616e+01\n",
      "     1.37772493e+01]\n",
      "  [  1.19608736e+01   6.62248039e+00   9.35528755e+00   6.09338999e+00\n",
      "     1.37772493e+01]\n",
      "  [  9.26972771e+00   2.97511578e+00   7.85340643e+00   4.17354774e+00\n",
      "     1.37772493e+01]\n",
      "  ..., \n",
      "  [  1.86209702e+00   2.57284530e-02   8.86043429e-01   2.03797572e-06\n",
      "     1.37772493e+01]\n",
      "  [  1.85072994e+00   2.54094768e-02   8.76501799e-01   2.38400389e-06\n",
      "     1.37772493e+01]\n",
      "  [  1.83962321e+00   2.52206810e-02   8.67065370e-01   2.73874002e-06\n",
      "     1.37772493e+01]]\n",
      "\n",
      " ..., \n",
      " [[  1.26227837e+01   1.05335560e+01   1.82743378e+01   1.19513092e+01\n",
      "     1.00450945e+01]\n",
      "  [  9.18038273e+00   1.19951324e+01   1.37582531e+01   8.30947495e+00\n",
      "     1.00450945e+01]\n",
      "  [  6.94841862e+00   7.02813625e+00   1.11416817e+01   6.63071728e+00\n",
      "     1.00450945e+01]\n",
      "  ..., \n",
      "  [  1.28482512e-04   1.71744990e+00   2.01533628e+00   2.40954862e-04\n",
      "     1.00450945e+01]\n",
      "  [  8.32004080e-05   1.71945572e+00   2.01111865e+00   2.14586878e-04\n",
      "     1.00450945e+01]\n",
      "  [  7.37748560e-05   1.72200859e+00   2.00702310e+00   1.90300343e-04\n",
      "     1.00450945e+01]]\n",
      "\n",
      " [[  5.85222912e+00   9.95279694e+00   8.22355461e+00   6.31512117e+00\n",
      "     6.52880383e+00]\n",
      "  [  4.56514168e+00   3.68295050e+00   6.81914568e+00   2.79454279e+00\n",
      "     6.52880383e+00]\n",
      "  [  3.79191923e+00   2.94152999e+00   5.79295206e+00   1.67112863e+00\n",
      "     6.52880383e+00]\n",
      "  ..., \n",
      "  [  9.58732888e-02   4.55028005e-02   3.14924777e-01   6.42083818e-04\n",
      "     6.52880383e+00]\n",
      "  [  9.09199417e-02   4.53649238e-02   3.14306885e-01   6.35386037e-04\n",
      "     6.52880383e+00]\n",
      "  [  8.61994997e-02   4.52943146e-02   3.13691556e-01   6.28760143e-04\n",
      "     6.52880383e+00]]\n",
      "\n",
      " [[  7.83279181e+00   1.16327620e+01   1.75110989e+01   8.22835255e+00\n",
      "     9.57103252e+00]\n",
      "  [  4.14501476e+00   5.29638100e+00   1.19960861e+01   5.56076097e+00\n",
      "     9.57103252e+00]\n",
      "  [  2.09915280e+00   3.45358443e+00   1.06292696e+01   5.54678535e+00\n",
      "     9.57103252e+00]\n",
      "  ..., \n",
      "  [  1.11386864e-04   2.10543498e-01   3.68582559e+00   3.89781141e+00\n",
      "     9.57103252e+00]\n",
      "  [  1.61497752e-04   2.09272385e-01   3.68342304e+00   3.89501286e+00\n",
      "     9.57103252e+00]\n",
      "  [  1.70718689e-04   2.08003134e-01   3.68107152e+00   3.89221716e+00\n",
      "     9.57103252e+00]]]\n"
     ]
    }
   ],
   "source": [
    "print(fit_data)"
   ]
  },
  {
   "cell_type": "code",
   "execution_count": null,
   "metadata": {
    "collapsed": true
   },
   "outputs": [],
   "source": []
  }
 ],
 "metadata": {
  "kernelspec": {
   "display_name": "Python 3",
   "language": "python",
   "name": "python3"
  },
  "language_info": {
   "codemirror_mode": {
    "name": "ipython",
    "version": 3
   },
   "file_extension": ".py",
   "mimetype": "text/x-python",
   "name": "python",
   "nbconvert_exporter": "python",
   "pygments_lexer": "ipython3",
   "version": "3.6.0"
  },
  "widgets": {
   "state": {
    "0066506bf9fa4e82b223d1ce534ab7ad": {
     "views": [
      {
       "cell_index": 15
      }
     ]
    },
    "00bcbea5b0d44f28a4d61f84e21e8625": {
     "views": [
      {
       "cell_index": 10
      }
     ]
    },
    "01020336553a4415b4011a4cbd2eafca": {
     "views": [
      {
       "cell_index": 10
      }
     ]
    },
    "018c5b8009d3463ba17e6fcb070b8465": {
     "views": [
      {
       "cell_index": 10
      }
     ]
    },
    "01a23a7c444b4bb8a52a2206b3e59fc3": {
     "views": [
      {
       "cell_index": 10
      }
     ]
    },
    "01ca0330a21a46f3802885142df45cbf": {
     "views": [
      {
       "cell_index": 10
      }
     ]
    },
    "02099134024d49a5a737b5afb00f798f": {
     "views": [
      {
       "cell_index": 12
      }
     ]
    },
    "020d5dbf07fc41db81a184fa3f387fbf": {
     "views": [
      {
       "cell_index": 10
      }
     ]
    },
    "0226deba64404fec81748977f7981e3e": {
     "views": [
      {
       "cell_index": 15
      }
     ]
    },
    "022c0ca550b642a89983d453d2edf7c3": {
     "views": [
      {
       "cell_index": 10
      }
     ]
    },
    "02a4ca1e09394e4783245c4fd0492be5": {
     "views": [
      {
       "cell_index": 10
      }
     ]
    },
    "02f014c2ae2545719155b459420b0209": {
     "views": [
      {
       "cell_index": 10
      }
     ]
    },
    "03b1f7b3b20442d8a92cc04e1a5ec438": {
     "views": [
      {
       "cell_index": 12
      }
     ]
    },
    "03edb7498a214ef3b7744a0e8e80f719": {
     "views": [
      {
       "cell_index": 10
      }
     ]
    },
    "0406b6de97784d82aa092ff34b248af2": {
     "views": [
      {
       "cell_index": 10
      }
     ]
    },
    "041b3edd71d342339dfbde0b4cec2c20": {
     "views": [
      {
       "cell_index": 10
      }
     ]
    },
    "04279531d63c4159a74468694f3473ac": {
     "views": [
      {
       "cell_index": 15
      }
     ]
    },
    "04351312417e47798a1943f718712771": {
     "views": [
      {
       "cell_index": 10
      }
     ]
    },
    "04ae09ced77b44c790df3f96accbfa73": {
     "views": [
      {
       "cell_index": 10
      }
     ]
    },
    "0555f9b7ab224a69805bdfa401a60198": {
     "views": [
      {
       "cell_index": 10
      }
     ]
    },
    "05ce1ec2ec904c6680c0db0b8dbcc34f": {
     "views": [
      {
       "cell_index": 12
      }
     ]
    },
    "05effb43ef7a413fb69e39ed87d16e49": {
     "views": [
      {
       "cell_index": 12
      }
     ]
    },
    "060ab90262c94929b0a7c37163c3c388": {
     "views": [
      {
       "cell_index": 16
      }
     ]
    },
    "064bc4b95c83487991a2060927253f9e": {
     "views": [
      {
       "cell_index": 12
      }
     ]
    },
    "066924426ffc443ab378e8379d5b8085": {
     "views": [
      {
       "cell_index": 10
      }
     ]
    },
    "067954596d844282a6e23202d8c79f9a": {
     "views": [
      {
       "cell_index": 10
      }
     ]
    },
    "069ef8c66e32498ca1c521f9750bafd5": {
     "views": [
      {
       "cell_index": 10
      }
     ]
    },
    "06b34b627fa740a9bbc25fe3243de114": {
     "views": [
      {
       "cell_index": 15
      }
     ]
    },
    "06d0434af4f54426929e73f7246bce40": {
     "views": [
      {
       "cell_index": 16
      }
     ]
    },
    "07108f2dfafa463aa80ec6f5baf139d7": {
     "views": [
      {
       "cell_index": 12
      }
     ]
    },
    "07646ed9d2ad49ecaebe92f499957a96": {
     "views": [
      {
       "cell_index": 10
      }
     ]
    },
    "07e0ca48752a4a17995aa3205c0076aa": {
     "views": [
      {
       "cell_index": 12
      }
     ]
    },
    "08361fff61f14ee4bb75ee6ab700e31e": {
     "views": [
      {
       "cell_index": 12
      }
     ]
    },
    "086045e657c04991b6c17926040b13dd": {
     "views": [
      {
       "cell_index": 10
      }
     ]
    },
    "099699b9652b40569a421ad1833c6ae7": {
     "views": [
      {
       "cell_index": 10
      }
     ]
    },
    "09b0fd935efa47f1a0bf2140618bfd6f": {
     "views": [
      {
       "cell_index": 12
      }
     ]
    },
    "09f6092ac7e5415ea17d01479716a968": {
     "views": [
      {
       "cell_index": 10
      }
     ]
    },
    "0a0278ed75e443d0bb2c516275f090e7": {
     "views": [
      {
       "cell_index": 15
      }
     ]
    },
    "0a41095ec1c74544b7f9c8e8ef4fb8af": {
     "views": [
      {
       "cell_index": 10
      }
     ]
    },
    "0a4e8fc25af845038086a8bb0b342173": {
     "views": [
      {
       "cell_index": 10
      }
     ]
    },
    "0a6f8beea178492a8570c277d0343729": {
     "views": [
      {
       "cell_index": 12
      }
     ]
    },
    "0a869bf81a554d4d93e2674fc3aa3eba": {
     "views": [
      {
       "cell_index": 10
      }
     ]
    },
    "0bfbf32c52d249cd9d85f3e7cbe47457": {
     "views": [
      {
       "cell_index": 16
      }
     ]
    },
    "0cc000573cdd49c7baef9061024fdf7a": {
     "views": [
      {
       "cell_index": 10
      }
     ]
    },
    "0d1691fe83d446419de1ab9e317d3248": {
     "views": [
      {
       "cell_index": 12
      }
     ]
    },
    "0d2b99b6e2e44ba4b11007ea11425d72": {
     "views": [
      {
       "cell_index": 10
      }
     ]
    },
    "0d8a598ed83b4baeaf61b36d5008ddf9": {
     "views": [
      {
       "cell_index": 10
      }
     ]
    },
    "0d8c2fd2919b4e108f0700ba7269da09": {
     "views": [
      {
       "cell_index": 15
      }
     ]
    },
    "0e340761be364e72bb2587ca3d7cb9aa": {
     "views": [
      {
       "cell_index": 12
      }
     ]
    },
    "0e6b60ea5e834e698b32e3f253c690b8": {
     "views": [
      {
       "cell_index": 12
      }
     ]
    },
    "0f5763e5f74549d28015a90e1a4b8365": {
     "views": [
      {
       "cell_index": 12
      }
     ]
    },
    "0fe20776915746f6a1bfcaa06f817412": {
     "views": [
      {
       "cell_index": 10
      }
     ]
    },
    "1124034aa55543bf94572fb062ac3743": {
     "views": [
      {
       "cell_index": 12
      }
     ]
    },
    "11ace20920e64c419d63e2a9e0a925fc": {
     "views": [
      {
       "cell_index": 10
      }
     ]
    },
    "11ae034f36dd40748d85db8e162a707f": {
     "views": [
      {
       "cell_index": 10
      }
     ]
    },
    "11c3196faa1b426ab03b6fa2f518e9f5": {
     "views": [
      {
       "cell_index": 10
      }
     ]
    },
    "126e2c2427b84556a5e593314c66c152": {
     "views": [
      {
       "cell_index": 10
      }
     ]
    },
    "12be55e2a9fb4dc4932248c00753c632": {
     "views": [
      {
       "cell_index": 10
      }
     ]
    },
    "12e17295852a4168bc2b4f933f8c011e": {
     "views": [
      {
       "cell_index": 10
      }
     ]
    },
    "1361d824eaf544a1a0859a89f6ee7ecf": {
     "views": [
      {
       "cell_index": 12
      }
     ]
    },
    "13bc94906b654a7eacd8e7188f35f875": {
     "views": [
      {
       "cell_index": 10
      }
     ]
    },
    "13c7f4001f2f4e15927c5fa8e1c81618": {
     "views": [
      {
       "cell_index": 10
      }
     ]
    },
    "143ea2fdfa334f8ea36bd52a6e51b26a": {
     "views": [
      {
       "cell_index": 10
      }
     ]
    },
    "14e6890e559d49228c4edabd8e1ad14a": {
     "views": [
      {
       "cell_index": 12
      }
     ]
    },
    "14f34b2e153f4bb996945dfac3b841e9": {
     "views": [
      {
       "cell_index": 10
      }
     ]
    },
    "154a25dc760c44df84e2f54417790b84": {
     "views": [
      {
       "cell_index": 10
      }
     ]
    },
    "15efdadf988b4cc680aa02309c5f5fa8": {
     "views": [
      {
       "cell_index": 12
      }
     ]
    },
    "161159dd2ff149809dd05ed974e7577e": {
     "views": [
      {
       "cell_index": 10
      }
     ]
    },
    "16e15c3578d44ebd9446f6f997676793": {
     "views": [
      {
       "cell_index": 12
      }
     ]
    },
    "173411d4e8484bc0a39c3e94ecf67ed9": {
     "views": [
      {
       "cell_index": 10
      }
     ]
    },
    "174758c6759c4f82bb82928e95114e1c": {
     "views": [
      {
       "cell_index": 10
      }
     ]
    },
    "174edeb81b214707b8e9eaab78cb8dc5": {
     "views": [
      {
       "cell_index": 10
      }
     ]
    },
    "1770314410cd436ba5f63cb561f6b5f3": {
     "views": [
      {
       "cell_index": 10
      }
     ]
    },
    "186dc8b9359146b991e938bff119861d": {
     "views": [
      {
       "cell_index": 10
      }
     ]
    },
    "189369efb63d4f7d93d7224142c8ca5f": {
     "views": [
      {
       "cell_index": 12
      }
     ]
    },
    "18c46ded0ec54d5fa310dd14d94c78a5": {
     "views": [
      {
       "cell_index": 12
      }
     ]
    },
    "1991978615db4ef8b013bfb69d5cb9cf": {
     "views": [
      {
       "cell_index": 12
      }
     ]
    },
    "19be45881f124bd39801a0249b78a5ad": {
     "views": [
      {
       "cell_index": 10
      }
     ]
    },
    "19c37c6c684f424ea67971a490039302": {
     "views": [
      {
       "cell_index": 12
      }
     ]
    },
    "1a39da4c377c4aaaaf306ed9c8a1f4b5": {
     "views": [
      {
       "cell_index": 12
      }
     ]
    },
    "1ad9e30b8c6c4d19b14a684a947858dd": {
     "views": [
      {
       "cell_index": 12
      }
     ]
    },
    "1b99d195642644b2bc6b4a263fc07f51": {
     "views": [
      {
       "cell_index": 15
      }
     ]
    },
    "1bc28cc4f5304e78b0ee4cee07be6446": {
     "views": [
      {
       "cell_index": 10
      }
     ]
    },
    "1bd0eee124b241818a531d54ef8b972d": {
     "views": [
      {
       "cell_index": 10
      }
     ]
    },
    "1be68d0e2b8d41748200c754dc79a93c": {
     "views": [
      {
       "cell_index": 10
      }
     ]
    },
    "1c4051bfe289439f87cf6580636df66e": {
     "views": [
      {
       "cell_index": 10
      }
     ]
    },
    "1c80178e5f994253979c1b60c67dd25a": {
     "views": [
      {
       "cell_index": 12
      }
     ]
    },
    "1cb495a211d349b98026ef174d5df043": {
     "views": [
      {
       "cell_index": 10
      }
     ]
    },
    "1cbc2c2e9b8947b0bfebc8e294848082": {
     "views": [
      {
       "cell_index": 12
      }
     ]
    },
    "1ce7683f638a4bc78e3df45ea8a12e44": {
     "views": [
      {
       "cell_index": 12
      }
     ]
    },
    "1d2232d47e0745f0849298ad8d7406e2": {
     "views": [
      {
       "cell_index": 10
      }
     ]
    },
    "1d797a71090f4b1483792c0394ff5734": {
     "views": [
      {
       "cell_index": 15
      }
     ]
    },
    "1dba32cd1a174e54928a61eccf7b02a9": {
     "views": [
      {
       "cell_index": 10
      }
     ]
    },
    "1e5197d24652480d899429d61e55ac9c": {
     "views": [
      {
       "cell_index": 10
      }
     ]
    },
    "1eaec834d52a4fbabf00d5cf6e708a2e": {
     "views": [
      {
       "cell_index": 12
      }
     ]
    },
    "1f2eeabfb3a44aafbdb5eb9c101c51b1": {
     "views": [
      {
       "cell_index": 15
      }
     ]
    },
    "1f84d7df92c44a39ac48253d840d2140": {
     "views": [
      {
       "cell_index": 10
      }
     ]
    },
    "1fc0745f86fb4d4bbf94e4b087aaa461": {
     "views": [
      {
       "cell_index": 10
      }
     ]
    },
    "1fdff05a01f64e6e933b0f42b6ad3039": {
     "views": [
      {
       "cell_index": 15
      }
     ]
    },
    "207ab8692897425aa0ac17b5e82061f8": {
     "views": [
      {
       "cell_index": 10
      }
     ]
    },
    "2091ceee1ee64adbab19581f4d29022c": {
     "views": [
      {
       "cell_index": 15
      }
     ]
    },
    "20ade0c9519e42da87144ef7a8e7a8c4": {
     "views": [
      {
       "cell_index": 15
      }
     ]
    },
    "20b1df8500fe4c14b9f13e5418439e89": {
     "views": [
      {
       "cell_index": 10
      }
     ]
    },
    "20e9124244d143ecb03075d78979ea5a": {
     "views": [
      {
       "cell_index": 10
      }
     ]
    },
    "21227a8503db4410b24a04cfcefe87c1": {
     "views": [
      {
       "cell_index": 10
      }
     ]
    },
    "21429fc2d60c457ea11c6f4f0d26daea": {
     "views": [
      {
       "cell_index": 10
      }
     ]
    },
    "21d35e58a56b4dca94cdca6b8a284ade": {
     "views": [
      {
       "cell_index": 10
      }
     ]
    },
    "22729bd37f5245079063bee4e7fa6ec5": {
     "views": [
      {
       "cell_index": 10
      }
     ]
    },
    "22f3000c3cc24e04908d8dfd6224ef9e": {
     "views": [
      {
       "cell_index": 10
      }
     ]
    },
    "230935ddf1cc4a7187f7f2227c1d328d": {
     "views": [
      {
       "cell_index": 10
      }
     ]
    },
    "233916c434a24c33b001e1cecfd6c6f3": {
     "views": [
      {
       "cell_index": 10
      }
     ]
    },
    "237772c9abd2464d87c8597129fdcb0b": {
     "views": [
      {
       "cell_index": 10
      }
     ]
    },
    "23d3adfbb46844738802a696264e6feb": {
     "views": [
      {
       "cell_index": 10
      }
     ]
    },
    "242102f8eb934bbb81ce3168f7a983df": {
     "views": [
      {
       "cell_index": 15
      }
     ]
    },
    "244c6dc7a41546d78b231718e5683ba1": {
     "views": [
      {
       "cell_index": 12
      }
     ]
    },
    "24cf120a5cb5481a8afe45e1b2377d8f": {
     "views": [
      {
       "cell_index": 15
      }
     ]
    },
    "255452a86376481caa3bc3dab0d4b898": {
     "views": [
      {
       "cell_index": 15
      }
     ]
    },
    "265d74523fe54180a9dfacb86f4d2e74": {
     "views": [
      {
       "cell_index": 10
      }
     ]
    },
    "266641fb2285492d8f3a634ec4fb0977": {
     "views": [
      {
       "cell_index": 10
      }
     ]
    },
    "26c95c32c2c344ed88e632fea7e69153": {
     "views": [
      {
       "cell_index": 15
      }
     ]
    },
    "26d23d93afc5440290a5bbda2ed90331": {
     "views": [
      {
       "cell_index": 12
      }
     ]
    },
    "26fa42afebfb4d1bb4d844546bc98321": {
     "views": [
      {
       "cell_index": 10
      }
     ]
    },
    "270cf426e4b84871b31d0aff8466b64f": {
     "views": [
      {
       "cell_index": 12
      }
     ]
    },
    "271f18425692417b88e914e38710b112": {
     "views": [
      {
       "cell_index": 12
      }
     ]
    },
    "2735381f7d5749cdabec451394a03462": {
     "views": [
      {
       "cell_index": 10
      }
     ]
    },
    "27fb14181a9c4683a4a0f5a9a765ba86": {
     "views": [
      {
       "cell_index": 10
      }
     ]
    },
    "287b85db5f75409a945f6ea64de98e59": {
     "views": [
      {
       "cell_index": 10
      }
     ]
    },
    "2892a180a89348fd893d69c8cb74702f": {
     "views": [
      {
       "cell_index": 10
      }
     ]
    },
    "28e7de556d8943678cec14e5c425c742": {
     "views": [
      {
       "cell_index": 10
      }
     ]
    },
    "28f82b899285455484170d705e6216bd": {
     "views": [
      {
       "cell_index": 15
      }
     ]
    },
    "294477e173da41769bff9a8fa4628faf": {
     "views": [
      {
       "cell_index": 12
      }
     ]
    },
    "295e3f1579af486b983617164b7f4eba": {
     "views": [
      {
       "cell_index": 12
      }
     ]
    },
    "298b8fd6f5704172a043cabde42abba1": {
     "views": [
      {
       "cell_index": 10
      }
     ]
    },
    "29e97a8de67b4d69809b1a355dc4e1a4": {
     "views": [
      {
       "cell_index": 16
      }
     ]
    },
    "2a0a65d24acd44c29ba44ae633911325": {
     "views": [
      {
       "cell_index": 10
      }
     ]
    },
    "2a0c0f51aa89448da353c6b3fb3f73b3": {
     "views": [
      {
       "cell_index": 12
      }
     ]
    },
    "2a6d45213bd345c68a5d34e3f4040e6e": {
     "views": [
      {
       "cell_index": 10
      }
     ]
    },
    "2ad4a85274ba468991dc2891a301a7a5": {
     "views": [
      {
       "cell_index": 10
      }
     ]
    },
    "2ae6902681ef4e169288da26cc286c1a": {
     "views": [
      {
       "cell_index": 10
      }
     ]
    },
    "2b7a73cd21714e80bfa198be40134172": {
     "views": [
      {
       "cell_index": 12
      }
     ]
    },
    "2b8e94360f454ec7ac648f0f755c59ae": {
     "views": [
      {
       "cell_index": 10
      }
     ]
    },
    "2bfdbd85395749b688fb6d276b371710": {
     "views": [
      {
       "cell_index": 10
      }
     ]
    },
    "2c14ddf1b7f949ff89d3262824d09988": {
     "views": [
      {
       "cell_index": 15
      }
     ]
    },
    "2c7b3c015ccf49ce98b19cc36fa0bfc1": {
     "views": [
      {
       "cell_index": 15
      }
     ]
    },
    "2d1e03b422ad4ffaaa672e1750668d8f": {
     "views": [
      {
       "cell_index": 12
      }
     ]
    },
    "2d3d56ed59c7442da0402a38a2893e2b": {
     "views": [
      {
       "cell_index": 10
      }
     ]
    },
    "2d428b6700b2436bad83456892077924": {
     "views": [
      {
       "cell_index": 10
      }
     ]
    },
    "2d728c311d9d4b239ce9fbe557209cd0": {
     "views": [
      {
       "cell_index": 10
      }
     ]
    },
    "2e01231f564c4af0bc3e9a1a9e9abc7f": {
     "views": [
      {
       "cell_index": 10
      }
     ]
    },
    "2e511b3db26946d6b561758053c44d3e": {
     "views": [
      {
       "cell_index": 15
      }
     ]
    },
    "2e8a379e7ca145b08f0e39c53d9bb905": {
     "views": [
      {
       "cell_index": 10
      }
     ]
    },
    "2e9219d667794729b614e635f41f580c": {
     "views": [
      {
       "cell_index": 10
      }
     ]
    },
    "2f4bf1c5c56b46e29d9ae1f2ffcec174": {
     "views": [
      {
       "cell_index": 12
      }
     ]
    },
    "2f7e3565d67545c3bb9116d04cbd52ba": {
     "views": [
      {
       "cell_index": 10
      }
     ]
    },
    "2fb1e0df817744dfb27bbef16474f98f": {
     "views": [
      {
       "cell_index": 10
      }
     ]
    },
    "2ff31f3bc03b4c53be1c5debd0b5cdcd": {
     "views": [
      {
       "cell_index": 12
      }
     ]
    },
    "300daef1f11d4e02b3b9a59ff95eb89f": {
     "views": [
      {
       "cell_index": 10
      }
     ]
    },
    "30968d1101f947b786b3379a8dce556a": {
     "views": [
      {
       "cell_index": 10
      }
     ]
    },
    "30bf745ba40d463d888611f660119009": {
     "views": [
      {
       "cell_index": 12
      }
     ]
    },
    "30cc44bed1914fb9bed8028c23e9f392": {
     "views": [
      {
       "cell_index": 15
      }
     ]
    },
    "30e6d55d24eb4e73a5e7a43e498d6a9f": {
     "views": [
      {
       "cell_index": 10
      }
     ]
    },
    "315435223ad04ce396cebaf367204194": {
     "views": [
      {
       "cell_index": 15
      }
     ]
    },
    "318b69c1499d448c8d00c03ed3a4bf6e": {
     "views": [
      {
       "cell_index": 10
      }
     ]
    },
    "319ef5b540754bc69523a30e0858f77d": {
     "views": [
      {
       "cell_index": 10
      }
     ]
    },
    "31e502e281844a6a866f44cf248056bb": {
     "views": [
      {
       "cell_index": 12
      }
     ]
    },
    "325450e3fac641968009f276d24bcb65": {
     "views": [
      {
       "cell_index": 10
      }
     ]
    },
    "327c92616fbb4e168d4057d7a2216008": {
     "views": [
      {
       "cell_index": 10
      }
     ]
    },
    "32c3de1066154514857de0bfc7c2302b": {
     "views": [
      {
       "cell_index": 12
      }
     ]
    },
    "33a1e994e9b446afb30a6323f76267b6": {
     "views": [
      {
       "cell_index": 15
      }
     ]
    },
    "34549baf6d684b51869077fe2312d513": {
     "views": [
      {
       "cell_index": 10
      }
     ]
    },
    "34a55db3fe4745ee868d157b9a196bd4": {
     "views": [
      {
       "cell_index": 10
      }
     ]
    },
    "35090921c0d6449f8229984290dae2d7": {
     "views": [
      {
       "cell_index": 10
      }
     ]
    },
    "3630be5cd7904eb19ea707b5007c613c": {
     "views": [
      {
       "cell_index": 15
      }
     ]
    },
    "36b3462883eb43ff83857b985f799ee7": {
     "views": [
      {
       "cell_index": 12
      }
     ]
    },
    "372b9be460a64afbba2f3ec8c87c490b": {
     "views": [
      {
       "cell_index": 10
      }
     ]
    },
    "3736a47372e9446084f5c9936ed7e0a7": {
     "views": [
      {
       "cell_index": 12
      }
     ]
    },
    "3764ab02e1164b77a2230d51d1cfcd01": {
     "views": [
      {
       "cell_index": 12
      }
     ]
    },
    "377436c8869b4a78a02d8cb26502a912": {
     "views": [
      {
       "cell_index": 10
      }
     ]
    },
    "377b535560474107afbaee3badf9651c": {
     "views": [
      {
       "cell_index": 10
      }
     ]
    },
    "38abab47a5974f1488a19d7382f0438a": {
     "views": [
      {
       "cell_index": 12
      }
     ]
    },
    "3961e807427e4837ae1283564b2deafd": {
     "views": [
      {
       "cell_index": 12
      }
     ]
    },
    "3974bd6d47fb4976b7f4267aadabef9a": {
     "views": [
      {
       "cell_index": 10
      }
     ]
    },
    "39752352cc324e03852a2786b74a80fd": {
     "views": [
      {
       "cell_index": 10
      }
     ]
    },
    "3a2a0cf7ef074b9daaabb5243eff8481": {
     "views": [
      {
       "cell_index": 12
      }
     ]
    },
    "3a754cc0dfe54dc3908689e41dd392fd": {
     "views": [
      {
       "cell_index": 10
      }
     ]
    },
    "3b014fa92d5a4f46a10514b060d62444": {
     "views": [
      {
       "cell_index": 10
      }
     ]
    },
    "3b4fc5f8e44245348eddd0785981b947": {
     "views": [
      {
       "cell_index": 10
      }
     ]
    },
    "3c14c01f322a4bb596695ca4c988eb70": {
     "views": [
      {
       "cell_index": 10
      }
     ]
    },
    "3c5c2cb7fdfe4b3c9e1ea39c120aabec": {
     "views": [
      {
       "cell_index": 12
      }
     ]
    },
    "3c64d7e055bb479691b3d94020902414": {
     "views": [
      {
       "cell_index": 10
      }
     ]
    },
    "3d5cd24f6f6647d8a18e7c2ca91c61e5": {
     "views": [
      {
       "cell_index": 12
      }
     ]
    },
    "3ddb0e3948de4272b7b7dff90640daf0": {
     "views": [
      {
       "cell_index": 10
      }
     ]
    },
    "3dedbb990305441e84e2e832885cb6b2": {
     "views": [
      {
       "cell_index": 10
      }
     ]
    },
    "3e7bae7b302d4dc2972e8887d20d97e9": {
     "views": [
      {
       "cell_index": 10
      }
     ]
    },
    "3eb8a37eee8e4c14ace873d2c7f667aa": {
     "views": [
      {
       "cell_index": 15
      }
     ]
    },
    "3f1ac6d3f5aa4d258787f3829ba8f8da": {
     "views": [
      {
       "cell_index": 10
      }
     ]
    },
    "402031d504fe431a9192b4da7cfb1115": {
     "views": [
      {
       "cell_index": 10
      }
     ]
    },
    "4096f85ca8634fe0871cf1441fbc972a": {
     "views": [
      {
       "cell_index": 12
      }
     ]
    },
    "40a30d7db7f9407ca2140f16dae13884": {
     "views": [
      {
       "cell_index": 10
      }
     ]
    },
    "40b3c15663e84605b7590f7f7bead432": {
     "views": [
      {
       "cell_index": 15
      }
     ]
    },
    "4171823ad9464113afe6391fce42e50b": {
     "views": [
      {
       "cell_index": 10
      }
     ]
    },
    "419eb5f2aeb84a458da7779c9c8a1258": {
     "views": [
      {
       "cell_index": 15
      }
     ]
    },
    "41bdb0abba504b558667b4579b854548": {
     "views": [
      {
       "cell_index": 12
      }
     ]
    },
    "41c39081ce1f4c9b9a2c1daabbd9556c": {
     "views": [
      {
       "cell_index": 10
      }
     ]
    },
    "41fed634323b427d8862e36f19f3198a": {
     "views": [
      {
       "cell_index": 10
      }
     ]
    },
    "421d0024aab74c0d95386dce39dcee28": {
     "views": [
      {
       "cell_index": 10
      }
     ]
    },
    "42aaf06ccbe14a4abfb58f7defd43947": {
     "views": [
      {
       "cell_index": 10
      }
     ]
    },
    "4321cbb5e6244bf5bf5938c5ee51a32d": {
     "views": [
      {
       "cell_index": 15
      }
     ]
    },
    "43410c21e4094ab2b794678d70dc02e1": {
     "views": [
      {
       "cell_index": 15
      }
     ]
    },
    "4368b27b74424793acd888db48691e7f": {
     "views": [
      {
       "cell_index": 10
      }
     ]
    },
    "43936408e39641bba1020370f3659ebb": {
     "views": [
      {
       "cell_index": 10
      }
     ]
    },
    "43db3d49e48044b4878308afa3c2f182": {
     "views": [
      {
       "cell_index": 12
      }
     ]
    },
    "43f6cecc060a4924ac9e5aa98f41181f": {
     "views": [
      {
       "cell_index": 12
      }
     ]
    },
    "45bb9b48ffe34d7989f35c30965db64d": {
     "views": [
      {
       "cell_index": 10
      }
     ]
    },
    "45c36bd1d13b408ca430a4c02a30408d": {
     "views": [
      {
       "cell_index": 15
      }
     ]
    },
    "45f72239ff1c4356a0a23150a34e12a2": {
     "views": [
      {
       "cell_index": 12
      }
     ]
    },
    "4635260ae5a1429e95b3e5da6e6f1c3a": {
     "views": [
      {
       "cell_index": 10
      }
     ]
    },
    "4684191500f54f2cb7e05b922fa24577": {
     "views": [
      {
       "cell_index": 10
      }
     ]
    },
    "469daf1d2a934fff8c668c300a9cdfa9": {
     "views": [
      {
       "cell_index": 10
      }
     ]
    },
    "46ad8f88996c4f259ae8a5e33159096e": {
     "views": [
      {
       "cell_index": 10
      }
     ]
    },
    "46ea98ad4e944a50977204e43b0b26bc": {
     "views": [
      {
       "cell_index": 10
      }
     ]
    },
    "4747246755df4b0d9029202acd5e6df1": {
     "views": [
      {
       "cell_index": 10
      }
     ]
    },
    "47ac51f196f5493cab9d97674d16b8b4": {
     "views": [
      {
       "cell_index": 12
      }
     ]
    },
    "47ba818efeaa480a89c033112d98f216": {
     "views": [
      {
       "cell_index": 10
      }
     ]
    },
    "47bf9f89d20e449c8d8fbda87a007712": {
     "views": [
      {
       "cell_index": 12
      }
     ]
    },
    "47c8256ee02e4940b2933211cb0447a1": {
     "views": [
      {
       "cell_index": 10
      }
     ]
    },
    "47ddd00d5c6b4d859d71f04f19314a82": {
     "views": [
      {
       "cell_index": 10
      }
     ]
    },
    "48ad9ee678c44e0591cd8542bd299b54": {
     "views": [
      {
       "cell_index": 12
      }
     ]
    },
    "48c83d9245a94945a11590cc9e6fa344": {
     "views": [
      {
       "cell_index": 10
      }
     ]
    },
    "49427a85709b4c25a240ab6da4f7bfd6": {
     "views": [
      {
       "cell_index": 10
      }
     ]
    },
    "49bc151b3a8a491b9b60233e08b20068": {
     "views": [
      {
       "cell_index": 10
      }
     ]
    },
    "49bdd7d95c4040ab9f9856b20e1fac38": {
     "views": [
      {
       "cell_index": 15
      }
     ]
    },
    "4b760a34faf841efbf7905a018c7ab52": {
     "views": [
      {
       "cell_index": 10
      }
     ]
    },
    "4c786fe32b9e43bfa0e37bf36accbb1a": {
     "views": [
      {
       "cell_index": 10
      }
     ]
    },
    "4d13467316774f408f08397ba411091c": {
     "views": [
      {
       "cell_index": 10
      }
     ]
    },
    "4d3534a77cfe4749922a26cd2d475274": {
     "views": [
      {
       "cell_index": 12
      }
     ]
    },
    "4ed1e59ce45646c6afadf4395904e480": {
     "views": [
      {
       "cell_index": 12
      }
     ]
    },
    "4fa21fa23fc1463ab4d221602bd06fdc": {
     "views": [
      {
       "cell_index": 12
      }
     ]
    },
    "4fd305bbea4344e4975ecd4240c192de": {
     "views": [
      {
       "cell_index": 10
      }
     ]
    },
    "50099cd3a4c34628b668f9c40fa431d5": {
     "views": [
      {
       "cell_index": 10
      }
     ]
    },
    "5024947933e143cb92cf1f549d67ed45": {
     "views": [
      {
       "cell_index": 10
      }
     ]
    },
    "50296d516baf444aac1a4b1f11c280ac": {
     "views": [
      {
       "cell_index": 12
      }
     ]
    },
    "50aa0c6a07da4fb9b6904b461aa9514b": {
     "views": [
      {
       "cell_index": 10
      }
     ]
    },
    "50ad81e943c54dcea711ba50fcd24e8e": {
     "views": [
      {
       "cell_index": 12
      }
     ]
    },
    "50f5846b99ae4bdea0c6fdaf2d4c6b57": {
     "views": [
      {
       "cell_index": 12
      }
     ]
    },
    "514c860601d748ffb5f92d15b29e5e11": {
     "views": [
      {
       "cell_index": 12
      }
     ]
    },
    "51703d659a9e4f619ae7ccfbf18da008": {
     "views": [
      {
       "cell_index": 10
      }
     ]
    },
    "517afd42ae574a77bf6407979a046354": {
     "views": [
      {
       "cell_index": 12
      }
     ]
    },
    "51f31e41bc8a4a95847b97a333aa8ece": {
     "views": [
      {
       "cell_index": 10
      }
     ]
    },
    "52dbbb7d1fea4061a5e9884a3c17b290": {
     "views": [
      {
       "cell_index": 10
      }
     ]
    },
    "5312a4f30cdf4177a4e84242ff79b0d9": {
     "views": [
      {
       "cell_index": 12
      }
     ]
    },
    "539a845f48154dd38ccbf6596ec3cdb2": {
     "views": [
      {
       "cell_index": 12
      }
     ]
    },
    "540f3e11417f44d3bd7a7e86dec60a7f": {
     "views": [
      {
       "cell_index": 15
      }
     ]
    },
    "54630578a24c425599882f8f06da948c": {
     "views": [
      {
       "cell_index": 10
      }
     ]
    },
    "547f4d46f63c499dbbb0c9b3ae919181": {
     "views": [
      {
       "cell_index": 12
      }
     ]
    },
    "553271e7d0914571afda0477305cc00e": {
     "views": [
      {
       "cell_index": 10
      }
     ]
    },
    "554acb6b4be2406e9ca9bf01915fe681": {
     "views": [
      {
       "cell_index": 12
      }
     ]
    },
    "559220f7830c4b118b21f5ae4f377a65": {
     "views": [
      {
       "cell_index": 10
      }
     ]
    },
    "560a26606b52432393a95602a155ec2d": {
     "views": [
      {
       "cell_index": 10
      }
     ]
    },
    "56b546ff4bde41999c4df71d82dc70d2": {
     "views": [
      {
       "cell_index": 10
      }
     ]
    },
    "573df88411aa4a4399f7aa687562e8c2": {
     "views": [
      {
       "cell_index": 16
      }
     ]
    },
    "57625a2a04c14298848f915492f861ab": {
     "views": [
      {
       "cell_index": 10
      }
     ]
    },
    "580e4a915b2b43cebae98a327c47e5bd": {
     "views": [
      {
       "cell_index": 10
      }
     ]
    },
    "583aed46d17e4de4b058aab46ecf9d68": {
     "views": [
      {
       "cell_index": 10
      }
     ]
    },
    "585d9a0b798f459ea8227ce0dd562931": {
     "views": [
      {
       "cell_index": 10
      }
     ]
    },
    "58a32d57e88d415ea2971a9692d05828": {
     "views": [
      {
       "cell_index": 10
      }
     ]
    },
    "58fdf942c66c4dd28602682085358075": {
     "views": [
      {
       "cell_index": 10
      }
     ]
    },
    "59087aa20b2c415ab945972cfb525ea3": {
     "views": [
      {
       "cell_index": 10
      }
     ]
    },
    "5987f32648714c499c03293222cb442f": {
     "views": [
      {
       "cell_index": 10
      }
     ]
    },
    "5a7116c078a24a579e37691e4d2e99b6": {
     "views": [
      {
       "cell_index": 10
      }
     ]
    },
    "5a7f10d881a941149629eb96dad89a82": {
     "views": [
      {
       "cell_index": 12
      }
     ]
    },
    "5b0add56236844d7b10337fa18c6b5bd": {
     "views": [
      {
       "cell_index": 12
      }
     ]
    },
    "5b674f47305d413881bcc92586089bac": {
     "views": [
      {
       "cell_index": 10
      }
     ]
    },
    "5bb9abb2c9154831adb9d91d91b996d6": {
     "views": [
      {
       "cell_index": 10
      }
     ]
    },
    "5bc64e80619a48c695dce6c967faf326": {
     "views": [
      {
       "cell_index": 10
      }
     ]
    },
    "5bcd14f383ac47dd880363deae5a53ed": {
     "views": [
      {
       "cell_index": 12
      }
     ]
    },
    "5c14ba7b37eb42a1ae62afbd3d26e0c6": {
     "views": [
      {
       "cell_index": 12
      }
     ]
    },
    "5c322075412e4d1f90de8f4bd6cbbc50": {
     "views": [
      {
       "cell_index": 10
      }
     ]
    },
    "5c4c34586a304aca966f278a0a8ba291": {
     "views": [
      {
       "cell_index": 10
      }
     ]
    },
    "5c4f9c1154df45ee81680ae016c0e918": {
     "views": [
      {
       "cell_index": 15
      }
     ]
    },
    "5c5930fcbc804685970382c01be0880f": {
     "views": [
      {
       "cell_index": 12
      }
     ]
    },
    "5c618ca9526641eab7991c52de94ec6b": {
     "views": [
      {
       "cell_index": 12
      }
     ]
    },
    "5c8dcf60c93e448798ebbd496adbb358": {
     "views": [
      {
       "cell_index": 12
      }
     ]
    },
    "5c8eccc37ce6418ab2e48456d489c668": {
     "views": [
      {
       "cell_index": 12
      }
     ]
    },
    "5c9eeb65055641eb9a083b6566048419": {
     "views": [
      {
       "cell_index": 10
      }
     ]
    },
    "5ccd52e68e2c47da951f93616cb52f58": {
     "views": [
      {
       "cell_index": 15
      }
     ]
    },
    "5cd1587e3d604e608a8fc97fcf851a28": {
     "views": [
      {
       "cell_index": 15
      }
     ]
    },
    "5d020342d3084ef29f887483b9cb896c": {
     "views": [
      {
       "cell_index": 12
      }
     ]
    },
    "5e0933902d264d3fb3be6d6bff3a6b10": {
     "views": [
      {
       "cell_index": 10
      }
     ]
    },
    "5e56e9de134c4848bacc5433090cc6dc": {
     "views": [
      {
       "cell_index": 10
      }
     ]
    },
    "5e7bfd3a6dd24f7b969adb562a4f01c3": {
     "views": [
      {
       "cell_index": 15
      }
     ]
    },
    "5ebacbbce20742a3aeff48a8af97d719": {
     "views": [
      {
       "cell_index": 10
      }
     ]
    },
    "5ece17d30a3f41df93171b8d3c328420": {
     "views": [
      {
       "cell_index": 12
      }
     ]
    },
    "5f0eef2a9c394cda95567a3eb55196ea": {
     "views": [
      {
       "cell_index": 15
      }
     ]
    },
    "5fd04ce3d79c440eb3c862874b0fb00a": {
     "views": [
      {
       "cell_index": 10
      }
     ]
    },
    "601bc27df9654274bf12fe98f7be213f": {
     "views": [
      {
       "cell_index": 12
      }
     ]
    },
    "6069dcc5c6984d72a47c991be6d5de51": {
     "views": [
      {
       "cell_index": 10
      }
     ]
    },
    "60f2fe6402654ebd8e44b0496f0fb84b": {
     "views": [
      {
       "cell_index": 10
      }
     ]
    },
    "614f51256e174389a7ac3b5196888e40": {
     "views": [
      {
       "cell_index": 10
      }
     ]
    },
    "61590c1094254c6a83c9fc66b7ff0363": {
     "views": [
      {
       "cell_index": 12
      }
     ]
    },
    "61add871f0c44016be163c1fba9fae77": {
     "views": [
      {
       "cell_index": 15
      }
     ]
    },
    "61e79528074647f7915ab81e57675d94": {
     "views": [
      {
       "cell_index": 10
      }
     ]
    },
    "6227f4822733416f97ddfb5470d7a4c7": {
     "views": [
      {
       "cell_index": 12
      }
     ]
    },
    "62814cb14a65438dbd039f206510b400": {
     "views": [
      {
       "cell_index": 12
      }
     ]
    },
    "62967eecd87443d2afe02d0e9941b2a7": {
     "views": [
      {
       "cell_index": 10
      }
     ]
    },
    "62c78eeb8c204f1f8fd70a75ccfa70b9": {
     "views": [
      {
       "cell_index": 15
      }
     ]
    },
    "639d95dca4f0472699f56112f4a4d127": {
     "views": [
      {
       "cell_index": 10
      }
     ]
    },
    "63d845c30f5344fea8952cf1bb640a81": {
     "views": [
      {
       "cell_index": 12
      }
     ]
    },
    "64b3adbad37541afaf49864371848291": {
     "views": [
      {
       "cell_index": 10
      }
     ]
    },
    "64f4d38e73af46c9b113e3bfbeeab237": {
     "views": [
      {
       "cell_index": 10
      }
     ]
    },
    "6540bad727be47d7a18695d7df5851e5": {
     "views": [
      {
       "cell_index": 10
      }
     ]
    },
    "65a4515789a9471790d456d210e3cbcb": {
     "views": [
      {
       "cell_index": 12
      }
     ]
    },
    "6615c806e74941f1b84ff4ffb0c53110": {
     "views": [
      {
       "cell_index": 10
      }
     ]
    },
    "6620ad8be9f24dcc871a47e967f6f796": {
     "views": [
      {
       "cell_index": 10
      }
     ]
    },
    "665416f703194e21ae0c1008f21d84ef": {
     "views": [
      {
       "cell_index": 10
      }
     ]
    },
    "666f251ae1544e619bfd82e942745db1": {
     "views": [
      {
       "cell_index": 10
      }
     ]
    },
    "66a61414dc84435a90df4ec303835c43": {
     "views": [
      {
       "cell_index": 10
      }
     ]
    },
    "6749b40519a7490abbba4a56c9eb47cc": {
     "views": [
      {
       "cell_index": 15
      }
     ]
    },
    "676cf28a82e44a5f96d53156232cb62d": {
     "views": [
      {
       "cell_index": 12
      }
     ]
    },
    "6816a98c9f1445bba62e78d291f64a83": {
     "views": [
      {
       "cell_index": 10
      }
     ]
    },
    "6836b705535842a4863db5713058b0e8": {
     "views": [
      {
       "cell_index": 10
      }
     ]
    },
    "688847642c2d4d058a6bd29a0e2ec111": {
     "views": [
      {
       "cell_index": 12
      }
     ]
    },
    "689e0688446f464b9b69a56224488953": {
     "views": [
      {
       "cell_index": 10
      }
     ]
    },
    "68ab35c6962c414891b9e64b45879333": {
     "views": [
      {
       "cell_index": 10
      }
     ]
    },
    "68b8d509d35246b6b09ed486a33d41d1": {
     "views": [
      {
       "cell_index": 10
      }
     ]
    },
    "68c4f73ff11d46baa3302fcd007812af": {
     "views": [
      {
       "cell_index": 10
      }
     ]
    },
    "68e56b67be854d05a2a43f271d33c417": {
     "views": [
      {
       "cell_index": 10
      }
     ]
    },
    "69204c57262a4db5983cc487c38cc1a8": {
     "views": [
      {
       "cell_index": 10
      }
     ]
    },
    "698893f3eab3439886a58e959d7c1d55": {
     "views": [
      {
       "cell_index": 10
      }
     ]
    },
    "69d3b0436e2946bbb1981e017234d2bc": {
     "views": [
      {
       "cell_index": 10
      }
     ]
    },
    "6a0af94b70bb4ad38c2e4bf8d0091f67": {
     "views": [
      {
       "cell_index": 12
      }
     ]
    },
    "6a31dae853e34102884c18c887f67a04": {
     "views": [
      {
       "cell_index": 10
      }
     ]
    },
    "6a70327ba2a744a2a7c4efaeceb6d201": {
     "views": [
      {
       "cell_index": 12
      }
     ]
    },
    "6b063bfc24e1472cb18f82e749855cc7": {
     "views": [
      {
       "cell_index": 12
      }
     ]
    },
    "6c2749b3307e48ccb6ce4ecfee15032b": {
     "views": [
      {
       "cell_index": 15
      }
     ]
    },
    "6c35fe004e334ab3a4628deecc3230fb": {
     "views": [
      {
       "cell_index": 10
      }
     ]
    },
    "6c87a9b454784931947f7cd65cac24b7": {
     "views": [
      {
       "cell_index": 15
      }
     ]
    },
    "6ccbecb27e394e7f8c79b0a880ec63b2": {
     "views": [
      {
       "cell_index": 12
      }
     ]
    },
    "6cdb573b9e414da5bd6940a552ce7574": {
     "views": [
      {
       "cell_index": 10
      }
     ]
    },
    "6d29aebb5ba843f392eb50231f7cbdef": {
     "views": [
      {
       "cell_index": 10
      }
     ]
    },
    "6d94d48e50f2475d94014abeee332159": {
     "views": [
      {
       "cell_index": 10
      }
     ]
    },
    "6dae634b7fde4785ab0a3e4cb0872fe3": {
     "views": [
      {
       "cell_index": 12
      }
     ]
    },
    "6ee369cc9e124504a33bd23fcf3fd36a": {
     "views": [
      {
       "cell_index": 10
      }
     ]
    },
    "6f15177209ab4f7babda758b208df92d": {
     "views": [
      {
       "cell_index": 10
      }
     ]
    },
    "6f34e36ddb754d06bc8a72c12e6f8dcd": {
     "views": [
      {
       "cell_index": 10
      }
     ]
    },
    "6f58a908bf894552bbaaaf743c80b08e": {
     "views": [
      {
       "cell_index": 10
      }
     ]
    },
    "6f68eb62d478488a913d2c931169d7a5": {
     "views": [
      {
       "cell_index": 15
      }
     ]
    },
    "6ff17cd373764a5b8e02eca4e9f8d6f2": {
     "views": [
      {
       "cell_index": 10
      }
     ]
    },
    "700fe073296f453680b46e9cd0d27f57": {
     "views": [
      {
       "cell_index": 10
      }
     ]
    },
    "71379d51b07947c498f4523aac9308ae": {
     "views": [
      {
       "cell_index": 10
      }
     ]
    },
    "7149c39f19fb48c290b87d0b35aeff4e": {
     "views": [
      {
       "cell_index": 15
      }
     ]
    },
    "716ff3271d7342c6aa45e8bc6eebd83c": {
     "views": [
      {
       "cell_index": 10
      }
     ]
    },
    "71bc88fe922d45078230f12d17bde39e": {
     "views": [
      {
       "cell_index": 12
      }
     ]
    },
    "721fc83396bf492689f1a06ed77d946a": {
     "views": [
      {
       "cell_index": 10
      }
     ]
    },
    "72866b6770a340a48f336d99e0d09b6e": {
     "views": [
      {
       "cell_index": 12
      }
     ]
    },
    "72a07ba5cf3d4f74b489f6fd72e2b221": {
     "views": [
      {
       "cell_index": 12
      }
     ]
    },
    "72ae305b3c8443df961c78b4e4715a1a": {
     "views": [
      {
       "cell_index": 10
      }
     ]
    },
    "72cd821b0ab8449793b6d6785e0300de": {
     "views": [
      {
       "cell_index": 10
      }
     ]
    },
    "73657e1629714e58b802b5cf8ca46d3c": {
     "views": [
      {
       "cell_index": 10
      }
     ]
    },
    "73b5ca10fe5346719f128e3b97b35625": {
     "views": [
      {
       "cell_index": 10
      }
     ]
    },
    "73d702ccb1474a83a9cd7b3a1a4750e0": {
     "views": [
      {
       "cell_index": 10
      }
     ]
    },
    "740d521374b643dabbfa903a1cf372fa": {
     "views": [
      {
       "cell_index": 10
      }
     ]
    },
    "74130645fcbd407abb246235cfc234bf": {
     "views": [
      {
       "cell_index": 10
      }
     ]
    },
    "7478d075f039492daf453824ef6ac0e8": {
     "views": [
      {
       "cell_index": 12
      }
     ]
    },
    "7482662593be483e8af1053ae3b40feb": {
     "views": [
      {
       "cell_index": 10
      }
     ]
    },
    "74ab2e0f8bee45de895bcc7f45f8b165": {
     "views": [
      {
       "cell_index": 12
      }
     ]
    },
    "74f612a6826f4f70ac162b514f61b582": {
     "views": [
      {
       "cell_index": 10
      }
     ]
    },
    "74f94370e2f74cc3a0f895a86f425c01": {
     "views": [
      {
       "cell_index": 12
      }
     ]
    },
    "75464e849a154d44837f813d998b1ee7": {
     "views": [
      {
       "cell_index": 10
      }
     ]
    },
    "766d3465770c43e1a859ed610fd75d3f": {
     "views": [
      {
       "cell_index": 10
      }
     ]
    },
    "7726b095249748dcbdf2f7340e6aa695": {
     "views": [
      {
       "cell_index": 10
      }
     ]
    },
    "775f2c5b986e4c4181f6c84562796fc9": {
     "views": [
      {
       "cell_index": 12
      }
     ]
    },
    "77678da729ae486d8bbd5fbf83a97ba4": {
     "views": [
      {
       "cell_index": 15
      }
     ]
    },
    "777ef55cb5f84c40abf3dcb52d2601d0": {
     "views": [
      {
       "cell_index": 12
      }
     ]
    },
    "77bcd994f29d49aabe4c7ba646b6a5c0": {
     "views": [
      {
       "cell_index": 15
      }
     ]
    },
    "7814cc28d429421091618fb62046cb6f": {
     "views": [
      {
       "cell_index": 10
      }
     ]
    },
    "7888e8a9a10945c8a6884524401a45ea": {
     "views": [
      {
       "cell_index": 10
      }
     ]
    },
    "788ba8c3a84e4cda89d8bdf66fff7ff9": {
     "views": [
      {
       "cell_index": 10
      }
     ]
    },
    "78ce3e8e097f404faec07faf60ed2dc9": {
     "views": [
      {
       "cell_index": 15
      }
     ]
    },
    "797f47e4054a4bd3b5119903085d4965": {
     "views": [
      {
       "cell_index": 15
      }
     ]
    },
    "799e5b0addc042ecb1b007484489456d": {
     "views": [
      {
       "cell_index": 12
      }
     ]
    },
    "79b2c8d7513943509d546e5f0b8a44fe": {
     "views": [
      {
       "cell_index": 10
      }
     ]
    },
    "79df4f07b48a4b68a4e1d346bca6a544": {
     "views": [
      {
       "cell_index": 10
      }
     ]
    },
    "7a4143193d334763ac6798572a35a250": {
     "views": [
      {
       "cell_index": 10
      }
     ]
    },
    "7c9c0c09bfc340ee9c7e4a814d63214d": {
     "views": [
      {
       "cell_index": 12
      }
     ]
    },
    "7cce580941f440f49cd9caf73726e848": {
     "views": [
      {
       "cell_index": 10
      }
     ]
    },
    "7cde85c060d84853bde9d9c80b84b337": {
     "views": [
      {
       "cell_index": 12
      }
     ]
    },
    "7ce2f91adb6f4f009d85178478a22fc1": {
     "views": [
      {
       "cell_index": 15
      }
     ]
    },
    "7d005fc89f694200b2a623115d09155c": {
     "views": [
      {
       "cell_index": 12
      }
     ]
    },
    "7d2e474733bd4d07bc5046656706d9fb": {
     "views": [
      {
       "cell_index": 10
      }
     ]
    },
    "7d7857f84ce64cac81902aebf94d09c1": {
     "views": [
      {
       "cell_index": 10
      }
     ]
    },
    "7e5fc1eb0a9146ce9b7f714c2abbd0c7": {
     "views": [
      {
       "cell_index": 10
      }
     ]
    },
    "7e9f2437554040beb01033e39ad4ce24": {
     "views": [
      {
       "cell_index": 10
      }
     ]
    },
    "7ec8dd61b760448f9683df6abecfac9b": {
     "views": [
      {
       "cell_index": 12
      }
     ]
    },
    "7ed35a4b16d2434dbec8fe45d892bd54": {
     "views": [
      {
       "cell_index": 10
      }
     ]
    },
    "7eeaeec626574988850de70c9aca88c3": {
     "views": [
      {
       "cell_index": 15
      }
     ]
    },
    "7f6943c94f86459aa79ae06483cb82f4": {
     "views": [
      {
       "cell_index": 10
      }
     ]
    },
    "7faf9d940fd443afa3bf206b2115c074": {
     "views": [
      {
       "cell_index": 10
      }
     ]
    },
    "7fd337fef2ab48a4b66974d55b9f0075": {
     "views": [
      {
       "cell_index": 10
      }
     ]
    },
    "8092d67c8e754e43ac3f4d6ad5632ba4": {
     "views": [
      {
       "cell_index": 10
      }
     ]
    },
    "80b6cad6f2934383a258a679a5c97fb4": {
     "views": [
      {
       "cell_index": 12
      }
     ]
    },
    "810af3f79f5b4e46b0cbc810db2119fb": {
     "views": [
      {
       "cell_index": 10
      }
     ]
    },
    "8193928aa8e141ac93b4501cbe2cda6e": {
     "views": [
      {
       "cell_index": 12
      }
     ]
    },
    "81ca3ea0f2d74692b7804dce92826ad0": {
     "views": [
      {
       "cell_index": 15
      }
     ]
    },
    "8248544d77e24a0fb95dbdaacabeb275": {
     "views": [
      {
       "cell_index": 10
      }
     ]
    },
    "828facc4cbd84c92b618753529b425bd": {
     "views": [
      {
       "cell_index": 10
      }
     ]
    },
    "82b359cfede44c5eb9d4b6eb8bc7de7f": {
     "views": [
      {
       "cell_index": 10
      }
     ]
    },
    "82bf04f7d91e41a0ae525eb320775f68": {
     "views": [
      {
       "cell_index": 12
      }
     ]
    },
    "82ef8d8a4fe5440aa367956686fdd5dd": {
     "views": [
      {
       "cell_index": 12
      }
     ]
    },
    "83a24856d0104abfb2c9654fde5ecaea": {
     "views": [
      {
       "cell_index": 12
      }
     ]
    },
    "8427050bf2dd47fd9bd118280898ae43": {
     "views": [
      {
       "cell_index": 10
      }
     ]
    },
    "84d50cd6e12d4cde9ca497c9414be636": {
     "views": [
      {
       "cell_index": 10
      }
     ]
    },
    "85c8a2f2efec4843bfa81f9973412e85": {
     "views": [
      {
       "cell_index": 10
      }
     ]
    },
    "85ce5ef9613b479c828061d3c3839896": {
     "views": [
      {
       "cell_index": 10
      }
     ]
    },
    "85dfd2afdbf84b2cb8b471316dfc972f": {
     "views": [
      {
       "cell_index": 15
      }
     ]
    },
    "8605d0358f924d069a1486db16ead0b4": {
     "views": [
      {
       "cell_index": 10
      }
     ]
    },
    "8681863b48ae4551a9748dd29a4d5b46": {
     "views": [
      {
       "cell_index": 10
      }
     ]
    },
    "86d994e5d8b54518b5aca369011cf101": {
     "views": [
      {
       "cell_index": 12
      }
     ]
    },
    "8759c31fcf01434aa8e23486d1baa96d": {
     "views": [
      {
       "cell_index": 10
      }
     ]
    },
    "8797591cddb24a5ebe1b78ca13261b6a": {
     "views": [
      {
       "cell_index": 10
      }
     ]
    },
    "887fd65b90f446118a122e696f25d557": {
     "views": [
      {
       "cell_index": 10
      }
     ]
    },
    "88f898076ae74481ab393078f04f9a5d": {
     "views": [
      {
       "cell_index": 12
      }
     ]
    },
    "891b502dea5c4e4e9881f5fee35520a9": {
     "views": [
      {
       "cell_index": 10
      }
     ]
    },
    "89490a5904b744058c7386dd8b64b8ad": {
     "views": [
      {
       "cell_index": 10
      }
     ]
    },
    "89b33d1ef961445c9bd3b6d07d20e732": {
     "views": [
      {
       "cell_index": 10
      }
     ]
    },
    "89e1a7d89b9c49a78f5e4b9f78795c20": {
     "views": [
      {
       "cell_index": 15
      }
     ]
    },
    "8a1f3e5f7ad0416e8d0b63a78310d8ad": {
     "views": [
      {
       "cell_index": 10
      }
     ]
    },
    "8a57b587b4374657bd06738258c337f0": {
     "views": [
      {
       "cell_index": 10
      }
     ]
    },
    "8acd71c8df734fb5ba564e5676836b4c": {
     "views": [
      {
       "cell_index": 12
      }
     ]
    },
    "8b77b547912f4598a9a0951991c3c8fe": {
     "views": [
      {
       "cell_index": 10
      }
     ]
    },
    "8b7fd33cb77540cba6ebbc3a636a142a": {
     "views": [
      {
       "cell_index": 12
      }
     ]
    },
    "8c2344d2b1e44295b70e2e5bf105f820": {
     "views": [
      {
       "cell_index": 10
      }
     ]
    },
    "8c29e3d3907d4e8b8837c2a325d7e680": {
     "views": [
      {
       "cell_index": 10
      }
     ]
    },
    "8c3edc56d5804fda987b039b8e239c5d": {
     "views": [
      {
       "cell_index": 10
      }
     ]
    },
    "8c6f59ec52da4c71b3cb40d58ad30b70": {
     "views": [
      {
       "cell_index": 15
      }
     ]
    },
    "8c7a63cf63b242a3ad475be27c5850fc": {
     "views": [
      {
       "cell_index": 12
      }
     ]
    },
    "8cbdf9fb23824fc68bd457424523d8e9": {
     "views": [
      {
       "cell_index": 10
      }
     ]
    },
    "8d3bc9d9aca94defbc8fea7749ef45eb": {
     "views": [
      {
       "cell_index": 10
      }
     ]
    },
    "8d5c1f072b1f4c7b84b147edae8fe3bb": {
     "views": [
      {
       "cell_index": 10
      }
     ]
    },
    "8faa96aaaaef41c99213800cb1b61650": {
     "views": [
      {
       "cell_index": 15
      }
     ]
    },
    "9046ac18431544e1a8824d8940c0fdef": {
     "views": [
      {
       "cell_index": 10
      }
     ]
    },
    "90b550e468bc45f49b7fc6f9675e3d31": {
     "views": [
      {
       "cell_index": 12
      }
     ]
    },
    "90d0b59d0557431ba9500a59a661ef72": {
     "views": [
      {
       "cell_index": 12
      }
     ]
    },
    "911714e2bbac490b83a1cb44492906b1": {
     "views": [
      {
       "cell_index": 10
      }
     ]
    },
    "913c4256b36747b1a656d220ab9d5e93": {
     "views": [
      {
       "cell_index": 15
      }
     ]
    },
    "929f3fcb23db4e0e8d75b725e85b581f": {
     "views": [
      {
       "cell_index": 10
      }
     ]
    },
    "92d444b2fcc441bd8d6d649350f210f9": {
     "views": [
      {
       "cell_index": 10
      }
     ]
    },
    "9324f6a7e80048cbacf844e359bcfcac": {
     "views": [
      {
       "cell_index": 10
      }
     ]
    },
    "936b3a983b7b40209c6d53e47303ed7f": {
     "views": [
      {
       "cell_index": 12
      }
     ]
    },
    "93920f3b0b574d8381df81ef7e9c8cb7": {
     "views": [
      {
       "cell_index": 10
      }
     ]
    },
    "93a37e9973124f1da63ea643bb7a020d": {
     "views": [
      {
       "cell_index": 10
      }
     ]
    },
    "940a116d10e94ef793d3640461d1e35e": {
     "views": [
      {
       "cell_index": 12
      }
     ]
    },
    "949043c095d14dc29279ce8e8288c2b9": {
     "views": [
      {
       "cell_index": 10
      }
     ]
    },
    "94cabda32bb84f1bae7a1117e7c0ac72": {
     "views": [
      {
       "cell_index": 10
      }
     ]
    },
    "94ebb3d4d42c49f08087f66051226991": {
     "views": [
      {
       "cell_index": 10
      }
     ]
    },
    "954d2577e30148299c613c04bdeaaf4e": {
     "views": [
      {
       "cell_index": 10
      }
     ]
    },
    "95b1f7c093d64e1dbf826ade8c5d9bcd": {
     "views": [
      {
       "cell_index": 12
      }
     ]
    },
    "95e2fa0de74e4e72a826db921835888f": {
     "views": [
      {
       "cell_index": 12
      }
     ]
    },
    "9689b6efb2ec4a3c9c721504546a51b5": {
     "views": [
      {
       "cell_index": 15
      }
     ]
    },
    "97bbf3c727904401a052c8352518afc2": {
     "views": [
      {
       "cell_index": 12
      }
     ]
    },
    "98ccd91ca128435a8601931082222e6f": {
     "views": [
      {
       "cell_index": 10
      }
     ]
    },
    "98d3ea69bfb54f5ca03aae3517a2442d": {
     "views": [
      {
       "cell_index": 10
      }
     ]
    },
    "98f7ab4ccd4f48d2b3d5f1b5f4e9e820": {
     "views": [
      {
       "cell_index": 10
      }
     ]
    },
    "993334be94a24e9f85b8c19a5b2cff4d": {
     "views": [
      {
       "cell_index": 10
      }
     ]
    },
    "99f85883c42747839cde37d8021ebdda": {
     "views": [
      {
       "cell_index": 10
      }
     ]
    },
    "9a116e0bf4734edcb48796ff12376379": {
     "views": [
      {
       "cell_index": 10
      }
     ]
    },
    "9a3f686b2aa04a358cf82e9f5364f3a7": {
     "views": [
      {
       "cell_index": 10
      }
     ]
    },
    "9a8c2768eacc4f1798cb20bb78800d77": {
     "views": [
      {
       "cell_index": 12
      }
     ]
    },
    "9ae39946111b4c87b330097901908e32": {
     "views": [
      {
       "cell_index": 10
      }
     ]
    },
    "9ae42556fa22463a9d79baf5d4be4846": {
     "views": [
      {
       "cell_index": 12
      }
     ]
    },
    "9aec5e50a1924ffcbb861addc754470c": {
     "views": [
      {
       "cell_index": 12
      }
     ]
    },
    "9bafaeb389e041459c88569f6ea24f38": {
     "views": [
      {
       "cell_index": 10
      }
     ]
    },
    "9c0b5f391b3942f9b154d03240add417": {
     "views": [
      {
       "cell_index": 10
      }
     ]
    },
    "9c5534770fd7439fb11826496131574e": {
     "views": [
      {
       "cell_index": 16
      }
     ]
    },
    "9c7a88e837194ab290794ad683aa85d3": {
     "views": [
      {
       "cell_index": 10
      }
     ]
    },
    "9c8cc622119648148a5848257182582d": {
     "views": [
      {
       "cell_index": 12
      }
     ]
    },
    "9cf8b2a2c8874beaae573bf4f06746db": {
     "views": [
      {
       "cell_index": 15
      }
     ]
    },
    "9d2ebe8d159f453f988bcd9e0113cd4c": {
     "views": [
      {
       "cell_index": 10
      }
     ]
    },
    "9d6b9cda7ff847c2af046853d013b7fb": {
     "views": [
      {
       "cell_index": 10
      }
     ]
    },
    "9d6e55cc3e034062b919127f0159adc7": {
     "views": [
      {
       "cell_index": 10
      }
     ]
    },
    "9de77009bfd143899c76b605043b3a89": {
     "views": [
      {
       "cell_index": 10
      }
     ]
    },
    "9e08a0d90e154beb80cfbfd195c2962a": {
     "views": [
      {
       "cell_index": 10
      }
     ]
    },
    "9e54f1ce64ec4c9bb88d7d75ff97fc94": {
     "views": [
      {
       "cell_index": 12
      }
     ]
    },
    "9ede4a0b29694fba92b462de37db9bc4": {
     "views": [
      {
       "cell_index": 10
      }
     ]
    },
    "9ee1475accea4c91970ff179a074340e": {
     "views": [
      {
       "cell_index": 12
      }
     ]
    },
    "9f9453c6097244fbb945373a78a7a270": {
     "views": [
      {
       "cell_index": 12
      }
     ]
    },
    "9fbdde3a55164386981bb1f82fd372a0": {
     "views": [
      {
       "cell_index": 12
      }
     ]
    },
    "9fccb87cf2dc438bb3e2b7380208c5a9": {
     "views": [
      {
       "cell_index": 10
      }
     ]
    },
    "9fe8713a3f814012b28ed6902017ad9d": {
     "views": [
      {
       "cell_index": 10
      }
     ]
    },
    "a0301bf6b95142df9a4b1803bb87b4d3": {
     "views": [
      {
       "cell_index": 12
      }
     ]
    },
    "a06e96f19cb54d56abeaafdc694b88ab": {
     "views": [
      {
       "cell_index": 12
      }
     ]
    },
    "a0f7aeea29334f0da3065b3798053250": {
     "views": [
      {
       "cell_index": 12
      }
     ]
    },
    "a16999f24f124ada9eff3a1ce0089871": {
     "views": [
      {
       "cell_index": 10
      }
     ]
    },
    "a18273c0f7324202b899dbf225270da2": {
     "views": [
      {
       "cell_index": 10
      }
     ]
    },
    "a18a2eebe1f7447484d37ae59c019930": {
     "views": [
      {
       "cell_index": 16
      }
     ]
    },
    "a206669ee05e45ce843651883a13d891": {
     "views": [
      {
       "cell_index": 15
      }
     ]
    },
    "a2ba6497f5584624bc7f4604ed265913": {
     "views": [
      {
       "cell_index": 12
      }
     ]
    },
    "a3f2e457fc0a4103aaf0fb0180c7d5c0": {
     "views": [
      {
       "cell_index": 12
      }
     ]
    },
    "a419868e6c544958be52dd4a4865af5e": {
     "views": [
      {
       "cell_index": 10
      }
     ]
    },
    "a4df0385dafb45229baeeebfe2107758": {
     "views": [
      {
       "cell_index": 12
      }
     ]
    },
    "a50db72e5da0444cab5ce04d2763c546": {
     "views": [
      {
       "cell_index": 10
      }
     ]
    },
    "a51f7f1025d64ecaaa7fe7dd74d995f0": {
     "views": [
      {
       "cell_index": 10
      }
     ]
    },
    "a53100118b064dbdb9df710f235bc478": {
     "views": [
      {
       "cell_index": 10
      }
     ]
    },
    "a6198ac1d3d94626a87b9519675efaae": {
     "views": [
      {
       "cell_index": 10
      }
     ]
    },
    "a65a77b4554642878d78c2fb7c1be3c5": {
     "views": [
      {
       "cell_index": 16
      }
     ]
    },
    "a6c7f34f0bbc457cb9d6ea6558116ea0": {
     "views": [
      {
       "cell_index": 10
      }
     ]
    },
    "a6d22f7d23074bbeb42577a273c33bfe": {
     "views": [
      {
       "cell_index": 10
      }
     ]
    },
    "a6f7b9d9134746bda30d54e95a3aaecb": {
     "views": [
      {
       "cell_index": 12
      }
     ]
    },
    "a7b2f80dbcf1487492cdb65efd24396b": {
     "views": [
      {
       "cell_index": 15
      }
     ]
    },
    "a7eaab51896c439e9a6f7cbf28539a2c": {
     "views": [
      {
       "cell_index": 10
      }
     ]
    },
    "a876ff7916674a34843552587429b83f": {
     "views": [
      {
       "cell_index": 10
      }
     ]
    },
    "a8e4d71905674002867bfc458fcfd73e": {
     "views": [
      {
       "cell_index": 15
      }
     ]
    },
    "aafca76cabd745c7adeb7ce65a7518b1": {
     "views": [
      {
       "cell_index": 10
      }
     ]
    },
    "ab08f8cc03c74f42b9ab3d1c3dea8bfd": {
     "views": [
      {
       "cell_index": 10
      }
     ]
    },
    "ab49d49bac7f4758bc332f1fbab1cc42": {
     "views": [
      {
       "cell_index": 15
      }
     ]
    },
    "ab6ddd45e1d340b5ab10533575f01001": {
     "views": [
      {
       "cell_index": 12
      }
     ]
    },
    "abd91f4432e546efafe92843c86c714d": {
     "views": [
      {
       "cell_index": 12
      }
     ]
    },
    "ac9ef69f563c4d779d617d851645faee": {
     "views": [
      {
       "cell_index": 12
      }
     ]
    },
    "acdca0dfa4f8454a9499e886599bb5b7": {
     "views": [
      {
       "cell_index": 12
      }
     ]
    },
    "ad676481ae0146fc83b02d9a2a347741": {
     "views": [
      {
       "cell_index": 15
      }
     ]
    },
    "ae60189bd1c84d5a908a77cc2807acbd": {
     "views": [
      {
       "cell_index": 10
      }
     ]
    },
    "af32086b97d940d8b968956df52bf99b": {
     "views": [
      {
       "cell_index": 15
      }
     ]
    },
    "af32ae5cd3de40aa9c51594bf029461b": {
     "views": [
      {
       "cell_index": 10
      }
     ]
    },
    "afccc5327a5b4f9a8c16f66a71dd30df": {
     "views": [
      {
       "cell_index": 10
      }
     ]
    },
    "b0725dcd9871485eb64b709f97cd6ee5": {
     "views": [
      {
       "cell_index": 15
      }
     ]
    },
    "b11b346b2fbb4ec2abc23c9269a7dae3": {
     "views": [
      {
       "cell_index": 10
      }
     ]
    },
    "b15606f32ed14a29a3a7fbb04cd465a7": {
     "views": [
      {
       "cell_index": 12
      }
     ]
    },
    "b18f7f79137048d59e3ee83f9fce7956": {
     "views": [
      {
       "cell_index": 12
      }
     ]
    },
    "b1a1c1f804244f9abf5feaf78e2eda36": {
     "views": [
      {
       "cell_index": 10
      }
     ]
    },
    "b1b0f003c5e54440889a3cace3cccdf8": {
     "views": [
      {
       "cell_index": 10
      }
     ]
    },
    "b1f0659c236c488a87c1667bc4bc13d0": {
     "views": [
      {
       "cell_index": 10
      }
     ]
    },
    "b20a47c25ba749b6b2107284583cf0c1": {
     "views": [
      {
       "cell_index": 10
      }
     ]
    },
    "b2730f6d347040b3967cd137da9ce6a8": {
     "views": [
      {
       "cell_index": 10
      }
     ]
    },
    "b28dfdc2a59943aaba93feb6da589b08": {
     "views": [
      {
       "cell_index": 10
      }
     ]
    },
    "b2a0b895bac64aff8c0c518ef78b40dc": {
     "views": [
      {
       "cell_index": 10
      }
     ]
    },
    "b3f08c54fddd4c50a56ecc467cf33e17": {
     "views": [
      {
       "cell_index": 12
      }
     ]
    },
    "b42550372151423895ef64b6a0e17719": {
     "views": [
      {
       "cell_index": 15
      }
     ]
    },
    "b47c8b4001c746b088caf20085f6d820": {
     "views": [
      {
       "cell_index": 12
      }
     ]
    },
    "b57c1f9ba17843cfb4111808790d9c54": {
     "views": [
      {
       "cell_index": 10
      }
     ]
    },
    "b5b0f384c2614ef59f2286bd7ae6048c": {
     "views": [
      {
       "cell_index": 10
      }
     ]
    },
    "b5b7bfe1516840709f9ab6f55f3c136f": {
     "views": [
      {
       "cell_index": 10
      }
     ]
    },
    "b5b85beadfe0447db640e54f2d37385f": {
     "views": [
      {
       "cell_index": 12
      }
     ]
    },
    "b688a770994d49009c7ea73944899c42": {
     "views": [
      {
       "cell_index": 10
      }
     ]
    },
    "b6d963719d5548d9b54db5acfbafb3f5": {
     "views": [
      {
       "cell_index": 12
      }
     ]
    },
    "b6dab6b9ecfa41c1965613bca859d058": {
     "views": [
      {
       "cell_index": 15
      }
     ]
    },
    "b6ffe2bc9adc44758024e4a4a6f11fea": {
     "views": [
      {
       "cell_index": 10
      }
     ]
    },
    "b72ed06a7d9f42f6b60bb9a97a39edd5": {
     "views": [
      {
       "cell_index": 10
      }
     ]
    },
    "b730d886310a4b7197495b0d0173cd6d": {
     "views": [
      {
       "cell_index": 10
      }
     ]
    },
    "b74eeac73cdc441893086a535ad05bf3": {
     "views": [
      {
       "cell_index": 12
      }
     ]
    },
    "b8a396e8312442fa81082e1d6ef74cc0": {
     "views": [
      {
       "cell_index": 10
      }
     ]
    },
    "b8b379d3c2ab4270bc5f9b11bc42d698": {
     "views": [
      {
       "cell_index": 12
      }
     ]
    },
    "b9a2d80fced843c7a207a77fc3c2b7b1": {
     "views": [
      {
       "cell_index": 10
      }
     ]
    },
    "ba6176430c93491d8e0ebcc033a8973d": {
     "views": [
      {
       "cell_index": 12
      }
     ]
    },
    "babcbeead2bb4fa09fc04325627d41a9": {
     "views": [
      {
       "cell_index": 10
      }
     ]
    },
    "bacc81662bf64a6b96c2403d7763f69a": {
     "views": [
      {
       "cell_index": 15
      }
     ]
    },
    "baed8557c53d4ff1b0b3c72cb9fd9f98": {
     "views": [
      {
       "cell_index": 15
      }
     ]
    },
    "bb2352c61c2846d292ff869e8266f350": {
     "views": [
      {
       "cell_index": 15
      }
     ]
    },
    "bc34996224494607b16825ca61d6fb9d": {
     "views": [
      {
       "cell_index": 10
      }
     ]
    },
    "bc79f7347871443184f833333876682e": {
     "views": [
      {
       "cell_index": 12
      }
     ]
    },
    "bceced50f24c404e8c88a08437dc5423": {
     "views": [
      {
       "cell_index": 10
      }
     ]
    },
    "bd4254c33ca84335bb76c394dce79134": {
     "views": [
      {
       "cell_index": 12
      }
     ]
    },
    "bd5281f5acb84f95a7fa74a5533d9941": {
     "views": [
      {
       "cell_index": 10
      }
     ]
    },
    "bd5bc4f6d7904aaaaef3788192b382bd": {
     "views": [
      {
       "cell_index": 10
      }
     ]
    },
    "bd6e5a35add844c0b1e77eb765d28322": {
     "views": [
      {
       "cell_index": 12
      }
     ]
    },
    "be9f631207884cc1b383ea0229a887d2": {
     "views": [
      {
       "cell_index": 10
      }
     ]
    },
    "bea6a41ca24e45039f2086a8f62b79ec": {
     "views": [
      {
       "cell_index": 12
      }
     ]
    },
    "beb8fb329714472aad471aa6922765c5": {
     "views": [
      {
       "cell_index": 10
      }
     ]
    },
    "bf5d5a83d79c4677b8216e7f200716b2": {
     "views": [
      {
       "cell_index": 10
      }
     ]
    },
    "bfbb17b354e74702aa1109dfe3c1e58e": {
     "views": [
      {
       "cell_index": 10
      }
     ]
    },
    "bfd36786fbb642d2a83c2fd20bdbe798": {
     "views": [
      {
       "cell_index": 15
      }
     ]
    },
    "bfd7dd4973064dae8cd4bc378b1f66f0": {
     "views": [
      {
       "cell_index": 10
      }
     ]
    },
    "c0c886c17f37436587f681bcd33bc1ba": {
     "views": [
      {
       "cell_index": 12
      }
     ]
    },
    "c0ec553448544ab3b5d80a65c9f7c621": {
     "views": [
      {
       "cell_index": 10
      }
     ]
    },
    "c11c50467e8d4b539dd22a485fb1cb63": {
     "views": [
      {
       "cell_index": 10
      }
     ]
    },
    "c198d8ad166046ec8ac0aef287782b47": {
     "views": [
      {
       "cell_index": 16
      }
     ]
    },
    "c1ad8cfb1682461b9743ea114b09bcd1": {
     "views": [
      {
       "cell_index": 12
      }
     ]
    },
    "c1e304bd9cd149fe841c929aacc2a95a": {
     "views": [
      {
       "cell_index": 10
      }
     ]
    },
    "c23eb9e57a424384b880e2f6df9e1c7d": {
     "views": [
      {
       "cell_index": 10
      }
     ]
    },
    "c354b4d3fcb94172ae88061570ecdcab": {
     "views": [
      {
       "cell_index": 16
      }
     ]
    },
    "c3eb693d76374bb39ea5fa03898e13f4": {
     "views": [
      {
       "cell_index": 10
      }
     ]
    },
    "c43871129a4343b68fbc5fbc1966a5d2": {
     "views": [
      {
       "cell_index": 12
      }
     ]
    },
    "c4915693b28941628956776b4da65f15": {
     "views": [
      {
       "cell_index": 10
      }
     ]
    },
    "c4b4f8a2df3b4b26b5fc274da36145f7": {
     "views": [
      {
       "cell_index": 12
      }
     ]
    },
    "c4b6f872fe614031a0ede68d6ffd01c4": {
     "views": [
      {
       "cell_index": 10
      }
     ]
    },
    "c53fca110257470996a4c9f22eef7e17": {
     "views": [
      {
       "cell_index": 10
      }
     ]
    },
    "c6174db69a52495f9b344fef13998b27": {
     "views": [
      {
       "cell_index": 12
      }
     ]
    },
    "c65a4bb32a344060ae85455bfb2d127c": {
     "views": [
      {
       "cell_index": 10
      }
     ]
    },
    "c86df03c124443cca73ce0940437b0b3": {
     "views": [
      {
       "cell_index": 16
      }
     ]
    },
    "c8a4dc22377c4e2d9bdd45fed7b2d461": {
     "views": [
      {
       "cell_index": 12
      }
     ]
    },
    "c955cabfe2e14b739ad92346685cffda": {
     "views": [
      {
       "cell_index": 12
      }
     ]
    },
    "c9b7e4c3529a405bb800193b3c965be2": {
     "views": [
      {
       "cell_index": 10
      }
     ]
    },
    "ca052a20ceca4a9c8f78fc1753221baa": {
     "views": [
      {
       "cell_index": 10
      }
     ]
    },
    "ca1239d6bf3546dabd2127f9a6484e66": {
     "views": [
      {
       "cell_index": 10
      }
     ]
    },
    "ca1c8a19f9e5485499bbe47b0a9c459d": {
     "views": [
      {
       "cell_index": 10
      }
     ]
    },
    "ca7e9cc7b1e141c9a0e87c591045878e": {
     "views": [
      {
       "cell_index": 10
      }
     ]
    },
    "caea8f54772b48ab9b7c4d89a8791ff1": {
     "views": [
      {
       "cell_index": 10
      }
     ]
    },
    "cb074743ca8642f2b30bd40784af31da": {
     "views": [
      {
       "cell_index": 10
      }
     ]
    },
    "cb1fd78d079c469199c6bc643a62446b": {
     "views": [
      {
       "cell_index": 10
      }
     ]
    },
    "cb51e31e6236474b9b6d22b46217a394": {
     "views": [
      {
       "cell_index": 15
      }
     ]
    },
    "cbc560dbd8ac4feea5d7680c41f9f18c": {
     "views": [
      {
       "cell_index": 16
      }
     ]
    },
    "cbdd9a5f4ade4d468b79ac7e3c6e94bc": {
     "views": [
      {
       "cell_index": 10
      }
     ]
    },
    "cc1b5a616b4449d4a80363561afb3899": {
     "views": [
      {
       "cell_index": 12
      }
     ]
    },
    "cc5d855379474367819f3f150dad24de": {
     "views": [
      {
       "cell_index": 12
      }
     ]
    },
    "ccf99130a002460896f2bc332f3459e8": {
     "views": [
      {
       "cell_index": 10
      }
     ]
    },
    "cddbd3c7352042fcbebe60560c1f9a14": {
     "views": [
      {
       "cell_index": 10
      }
     ]
    },
    "ce5f0d271eac4b2a92a6479b1e446b2d": {
     "views": [
      {
       "cell_index": 15
      }
     ]
    },
    "cebb83ecc97d4e409f4c46a52978ce23": {
     "views": [
      {
       "cell_index": 10
      }
     ]
    },
    "cee625961bad4d069101202911491ed0": {
     "views": [
      {
       "cell_index": 12
      }
     ]
    },
    "cf0ac74f1e2c42eb85e12a706d37c160": {
     "views": [
      {
       "cell_index": 10
      }
     ]
    },
    "cff62dc6ddc04bc78eab9177c9f52aff": {
     "views": [
      {
       "cell_index": 10
      }
     ]
    },
    "d02b791958c048d6aa8a08d0122019b5": {
     "views": [
      {
       "cell_index": 10
      }
     ]
    },
    "d08c2b1429774cd884608d375612f9a2": {
     "views": [
      {
       "cell_index": 15
      }
     ]
    },
    "d13128072acc4568b462b7bf0034c703": {
     "views": [
      {
       "cell_index": 10
      }
     ]
    },
    "d2191f45478744c5acba33a8cde6082e": {
     "views": [
      {
       "cell_index": 10
      }
     ]
    },
    "d22a290b6b884dcba2c1c272c980e7e1": {
     "views": [
      {
       "cell_index": 12
      }
     ]
    },
    "d24a42225b9a4924851e0a32d7d967b6": {
     "views": [
      {
       "cell_index": 12
      }
     ]
    },
    "d2845f309478418cbc0a55747580091c": {
     "views": [
      {
       "cell_index": 15
      }
     ]
    },
    "d3629ffc37914d4588a0c2531a389333": {
     "views": [
      {
       "cell_index": 10
      }
     ]
    },
    "d3b8798b0e7d47749740ea928297c514": {
     "views": [
      {
       "cell_index": 12
      }
     ]
    },
    "d3d61a398e0f466fb405414e4c307ff0": {
     "views": [
      {
       "cell_index": 12
      }
     ]
    },
    "d422b1f67c894466885a68367dfcf46d": {
     "views": [
      {
       "cell_index": 10
      }
     ]
    },
    "d46fabc3f0184d80b18161a4855bd3c6": {
     "views": [
      {
       "cell_index": 10
      }
     ]
    },
    "d54fd028d9a44c0d98b7566084b70bfb": {
     "views": [
      {
       "cell_index": 10
      }
     ]
    },
    "d586277092644862917171432cdc8052": {
     "views": [
      {
       "cell_index": 12
      }
     ]
    },
    "d5cd148d9c06416ca5d922dce90dcaf8": {
     "views": [
      {
       "cell_index": 16
      }
     ]
    },
    "d669b58b50f04bfaa705b40ef9392706": {
     "views": [
      {
       "cell_index": 10
      }
     ]
    },
    "d66cedd53db94bc7bfeb682475d089cc": {
     "views": [
      {
       "cell_index": 10
      }
     ]
    },
    "d69791a563a649bb809fb6d15bb904aa": {
     "views": [
      {
       "cell_index": 10
      }
     ]
    },
    "d6d8f66a19cb4e49abb021c7bb8ffa19": {
     "views": [
      {
       "cell_index": 15
      }
     ]
    },
    "d7026b3769234d21ada2df55c1a7417c": {
     "views": [
      {
       "cell_index": 15
      }
     ]
    },
    "d732facc08144f4699a2d82fb96b7ce4": {
     "views": [
      {
       "cell_index": 10
      }
     ]
    },
    "d7501a5b2fe344769846cdd676ddb6a9": {
     "views": [
      {
       "cell_index": 16
      }
     ]
    },
    "d79797f71b194ccda9834ca3c3a090d9": {
     "views": [
      {
       "cell_index": 10
      }
     ]
    },
    "d7d0d903d0114e6480566eca501c2983": {
     "views": [
      {
       "cell_index": 10
      }
     ]
    },
    "d804a50f333f48e6a53811bee61148a1": {
     "views": [
      {
       "cell_index": 15
      }
     ]
    },
    "d820f7bbcf6b4a1ab92871c32adf189b": {
     "views": [
      {
       "cell_index": 10
      }
     ]
    },
    "d82f05a9fca44a178d80f424ab4c859f": {
     "views": [
      {
       "cell_index": 10
      }
     ]
    },
    "d82f2d0c66d644b7945a65500d23eb1c": {
     "views": [
      {
       "cell_index": 10
      }
     ]
    },
    "d8723b6d8f3a4afe802baba228474ad9": {
     "views": [
      {
       "cell_index": 12
      }
     ]
    },
    "d8842e63ce354bbf924f20e69b7897da": {
     "views": [
      {
       "cell_index": 12
      }
     ]
    },
    "d88fccbbcedc482ab3e034826e9d0b9b": {
     "views": [
      {
       "cell_index": 12
      }
     ]
    },
    "d8af2cde52754e8e8a23b83669c10e3b": {
     "views": [
      {
       "cell_index": 12
      }
     ]
    },
    "d8e2aee164a74896a8bc5ed1721a9c25": {
     "views": [
      {
       "cell_index": 10
      }
     ]
    },
    "d8f87ea969f6441ea3decc4c298ab34d": {
     "views": [
      {
       "cell_index": 10
      }
     ]
    },
    "d90f6a3e79b04ed2a64a69b6e0dd513e": {
     "views": [
      {
       "cell_index": 12
      }
     ]
    },
    "d9284d6d689c4c538f83aaeec858fa46": {
     "views": [
      {
       "cell_index": 10
      }
     ]
    },
    "d95a13654db6430eac62342572464946": {
     "views": [
      {
       "cell_index": 15
      }
     ]
    },
    "d9ad29d0b1dc44b4bc56be5539ae9ac4": {
     "views": [
      {
       "cell_index": 15
      }
     ]
    },
    "d9bbf6d51994430488c3c98f3c04e690": {
     "views": [
      {
       "cell_index": 10
      }
     ]
    },
    "d9c93a2a13e040cd959f8509d8a7248e": {
     "views": [
      {
       "cell_index": 10
      }
     ]
    },
    "da2275ec794140a2bd5e876529f9d4a3": {
     "views": [
      {
       "cell_index": 12
      }
     ]
    },
    "da4eb563755c460da79f0fd64d15d24c": {
     "views": [
      {
       "cell_index": 10
      }
     ]
    },
    "da6628da170a4b4b87c75e6363a0e451": {
     "views": [
      {
       "cell_index": 10
      }
     ]
    },
    "da67ed44d26f4ae5ab9772042d280e8a": {
     "views": [
      {
       "cell_index": 12
      }
     ]
    },
    "da78771458b346e8a5d462d1c57718d9": {
     "views": [
      {
       "cell_index": 10
      }
     ]
    },
    "db775f5f68194539a83eae0e599540ac": {
     "views": [
      {
       "cell_index": 15
      }
     ]
    },
    "dbc8342ea4504654a1ef8b68d7b440c6": {
     "views": [
      {
       "cell_index": 12
      }
     ]
    },
    "dc846f34c4bf44b7a3902886dba03074": {
     "views": [
      {
       "cell_index": 10
      }
     ]
    },
    "dcd5f2194dbc4d10bbf6fc24d6d4842f": {
     "views": [
      {
       "cell_index": 15
      }
     ]
    },
    "dd0ed6bc07254f2cb97f43f3df6075ed": {
     "views": [
      {
       "cell_index": 10
      }
     ]
    },
    "dd28bd189ea140948ce42569f212eef8": {
     "views": [
      {
       "cell_index": 10
      }
     ]
    },
    "dd455221263c4633b3d5ccf3681b5b5f": {
     "views": [
      {
       "cell_index": 10
      }
     ]
    },
    "dd58afd4a60f4ee28146dad930586023": {
     "views": [
      {
       "cell_index": 12
      }
     ]
    },
    "ddecca47977d4ac0843d7f98008c1f6b": {
     "views": [
      {
       "cell_index": 12
      }
     ]
    },
    "dee92251e93147cd9a1e10ae929530bf": {
     "views": [
      {
       "cell_index": 10
      }
     ]
    },
    "def20b42b20e4c7b942a66a9c90d24e3": {
     "views": [
      {
       "cell_index": 10
      }
     ]
    },
    "defd183c412946648d821a4092d2f437": {
     "views": [
      {
       "cell_index": 15
      }
     ]
    },
    "df40cf6b4c1f444b87a104ed9f51479c": {
     "views": [
      {
       "cell_index": 10
      }
     ]
    },
    "df6d2deee7f648c7b64f9efc7dbf909b": {
     "views": [
      {
       "cell_index": 12
      }
     ]
    },
    "df85dfc85d764552804f13d95c191d4d": {
     "views": [
      {
       "cell_index": 10
      }
     ]
    },
    "dfabcd41df094899a0a5c5edca451059": {
     "views": [
      {
       "cell_index": 10
      }
     ]
    },
    "dfae0e185ec24e6d95d36e9106d374d2": {
     "views": [
      {
       "cell_index": 10
      }
     ]
    },
    "dfe49151911349d48a216fe697eee277": {
     "views": [
      {
       "cell_index": 10
      }
     ]
    },
    "e00205dd0841408281df651ff10f6e34": {
     "views": [
      {
       "cell_index": 10
      }
     ]
    },
    "e0c4dad12b8748069422288a6ceb3749": {
     "views": [
      {
       "cell_index": 10
      }
     ]
    },
    "e0f633aa29bb48109dffa6b9b6b3f897": {
     "views": [
      {
       "cell_index": 12
      }
     ]
    },
    "e12e657027b948f5a8469a3099ca40e3": {
     "views": [
      {
       "cell_index": 15
      }
     ]
    },
    "e13de2a5da19453bbe1114505b0ee654": {
     "views": [
      {
       "cell_index": 10
      }
     ]
    },
    "e172b77ad615453aa394d5d1df45592a": {
     "views": [
      {
       "cell_index": 10
      }
     ]
    },
    "e1da6f5a56154abe87fdb0896396bf24": {
     "views": [
      {
       "cell_index": 15
      }
     ]
    },
    "e20aea8b2efb42218d2018ad04fb37a3": {
     "views": [
      {
       "cell_index": 10
      }
     ]
    },
    "e271bdc6c23842e0892c8a7b50bba493": {
     "views": [
      {
       "cell_index": 10
      }
     ]
    },
    "e3c2be44c69448c0842e257e3314eb46": {
     "views": [
      {
       "cell_index": 10
      }
     ]
    },
    "e3c6c624a8464eecb74447c7ab0c4a88": {
     "views": [
      {
       "cell_index": 12
      }
     ]
    },
    "e421d149b53d4955ba938a0be7265623": {
     "views": [
      {
       "cell_index": 12
      }
     ]
    },
    "e4fd48a214504471b8662e6d5d6c5878": {
     "views": [
      {
       "cell_index": 10
      }
     ]
    },
    "e5f0ef3441024c3ab23443ba2c035335": {
     "views": [
      {
       "cell_index": 10
      }
     ]
    },
    "e5fb8bc7c87e4a92ace7f604fcd538c3": {
     "views": [
      {
       "cell_index": 10
      }
     ]
    },
    "e669e80359524eebafd13ba966e5868c": {
     "views": [
      {
       "cell_index": 12
      }
     ]
    },
    "e6f3b6a77ce245758cc8e993998f4ab7": {
     "views": [
      {
       "cell_index": 10
      }
     ]
    },
    "e7593392ebb54e5fa97b0e9f132ef872": {
     "views": [
      {
       "cell_index": 10
      }
     ]
    },
    "e798bce5b4ba44199f9a3e74fc6344b7": {
     "views": [
      {
       "cell_index": 10
      }
     ]
    },
    "e79c6840224149b489deaf4b14c614d2": {
     "views": [
      {
       "cell_index": 10
      }
     ]
    },
    "e7b7a508d5ae4514b544f9cecdddd6c3": {
     "views": [
      {
       "cell_index": 12
      }
     ]
    },
    "e8270d96a3804be09cb4adf3897b7ca9": {
     "views": [
      {
       "cell_index": 12
      }
     ]
    },
    "e83a7f805ad24952a619dfd04d245e48": {
     "views": [
      {
       "cell_index": 12
      }
     ]
    },
    "e89d10d2b9814908b2b46f3e26248aed": {
     "views": [
      {
       "cell_index": 10
      }
     ]
    },
    "e89effc13f1b41eeb62f63b9f9cfd85b": {
     "views": [
      {
       "cell_index": 12
      }
     ]
    },
    "e9e4124fa24b4815951fd298bb02c983": {
     "views": [
      {
       "cell_index": 10
      }
     ]
    },
    "ea96619aa3dd49bb97420bbfcf72bed7": {
     "views": [
      {
       "cell_index": 12
      }
     ]
    },
    "eae4398be8e7421cbabf5624eb4dec8c": {
     "views": [
      {
       "cell_index": 15
      }
     ]
    },
    "ec05a958369f41739e93b2443f8b79b0": {
     "views": [
      {
       "cell_index": 10
      }
     ]
    },
    "ec47a918e9f94160969d1a3d7b22f2ce": {
     "views": [
      {
       "cell_index": 10
      }
     ]
    },
    "ec6cd431ae0646eb819baac3cda35e31": {
     "views": [
      {
       "cell_index": 12
      }
     ]
    },
    "ec7309f09724469bbd087c24c6b58f2b": {
     "views": [
      {
       "cell_index": 10
      }
     ]
    },
    "ecbe1c3d286048188f8308269da9aa54": {
     "views": [
      {
       "cell_index": 10
      }
     ]
    },
    "ecc96a1363b941ed9c3457629be173e9": {
     "views": [
      {
       "cell_index": 10
      }
     ]
    },
    "ecff356c36df43709cc1d42abd3c963f": {
     "views": [
      {
       "cell_index": 12
      }
     ]
    },
    "edab6ea5f40d47f1b0d7a77807b4bbc1": {
     "views": [
      {
       "cell_index": 10
      }
     ]
    },
    "edd73eb7c1fa4784b0284eb3e4b44dc5": {
     "views": [
      {
       "cell_index": 10
      }
     ]
    },
    "edd8e53bbe2b49f193d55fa98a9404fc": {
     "views": [
      {
       "cell_index": 12
      }
     ]
    },
    "ef05e7b80aa2445fa644931a5a9a6e74": {
     "views": [
      {
       "cell_index": 15
      }
     ]
    },
    "ef0d3bfc3df04e13be10d30b75b48479": {
     "views": [
      {
       "cell_index": 10
      }
     ]
    },
    "ef81fff376dd4a9e971f849e5116a42d": {
     "views": [
      {
       "cell_index": 15
      }
     ]
    },
    "efe7b4d2fe8648e6bbb8d6d69f356e11": {
     "views": [
      {
       "cell_index": 10
      }
     ]
    },
    "f0753897615d48999410acf17e145150": {
     "views": [
      {
       "cell_index": 10
      }
     ]
    },
    "f07962fe32cc4a70ac78e6206b76b314": {
     "views": [
      {
       "cell_index": 12
      }
     ]
    },
    "f1523f23e0d04bb4930db6b39311a4a0": {
     "views": [
      {
       "cell_index": 10
      }
     ]
    },
    "f224e1d327b04e2f988bca3d39702369": {
     "views": [
      {
       "cell_index": 15
      }
     ]
    },
    "f25f33f7caf6489e899517d59b33e848": {
     "views": [
      {
       "cell_index": 10
      }
     ]
    },
    "f27594fabc6142b193ec0b819bd4b063": {
     "views": [
      {
       "cell_index": 10
      }
     ]
    },
    "f31545dac8524565b8dfb40084408129": {
     "views": [
      {
       "cell_index": 10
      }
     ]
    },
    "f341c275c02846d6805b37a6a61764e3": {
     "views": [
      {
       "cell_index": 10
      }
     ]
    },
    "f394a5ab0b0247f7b738d7846fe0ae94": {
     "views": [
      {
       "cell_index": 12
      }
     ]
    },
    "f397571919dd4dc299975ac04b462078": {
     "views": [
      {
       "cell_index": 10
      }
     ]
    },
    "f3d5bd9e2b07447db22f1857be8706d9": {
     "views": [
      {
       "cell_index": 10
      }
     ]
    },
    "f414f64b014441619de3334c530ec64e": {
     "views": [
      {
       "cell_index": 10
      }
     ]
    },
    "f4ad08a41aa243198059094a79159be9": {
     "views": [
      {
       "cell_index": 10
      }
     ]
    },
    "f5481a1ee6824bbfab7c6296e9f2a6fb": {
     "views": [
      {
       "cell_index": 12
      }
     ]
    },
    "f561b1d67a4148629454ca1726582dcc": {
     "views": [
      {
       "cell_index": 10
      }
     ]
    },
    "f61cbb8de5ae406f88f335fea9226c78": {
     "views": [
      {
       "cell_index": 15
      }
     ]
    },
    "f625a8d9939741c19f1ee41e21f8c97a": {
     "views": [
      {
       "cell_index": 15
      }
     ]
    },
    "f632e674535f4ef78d64d2796b946bc7": {
     "views": [
      {
       "cell_index": 12
      }
     ]
    },
    "f632e6ff16c24c378a3588dbe86d111c": {
     "views": [
      {
       "cell_index": 15
      }
     ]
    },
    "f67e8bae516142de9ad04e0650f14bd7": {
     "views": [
      {
       "cell_index": 10
      }
     ]
    },
    "f7483eedc7c14e6aa8f95aecf22c21ce": {
     "views": [
      {
       "cell_index": 10
      }
     ]
    },
    "f77a232a34594b37b2c2a1de4501017f": {
     "views": [
      {
       "cell_index": 15
      }
     ]
    },
    "f7f5b52b90f54f3187b3dd160406d820": {
     "views": [
      {
       "cell_index": 10
      }
     ]
    },
    "f7fcf429b54d46598c0a6369b0f25fe5": {
     "views": [
      {
       "cell_index": 10
      }
     ]
    },
    "f829e41dc82a42dba65d0ef2a3abae7a": {
     "views": [
      {
       "cell_index": 10
      }
     ]
    },
    "f90c4539ecdf4c25929bbe41e365113d": {
     "views": [
      {
       "cell_index": 10
      }
     ]
    },
    "f927fa833636408ebd8d1e8e5b15e9fb": {
     "views": [
      {
       "cell_index": 15
      }
     ]
    },
    "f961212a7b64485bbc8cf3f7b1f59658": {
     "views": [
      {
       "cell_index": 10
      }
     ]
    },
    "f963cbdddaba414581b7a8e7ca8f8174": {
     "views": [
      {
       "cell_index": 10
      }
     ]
    },
    "fac67352f5e745408bb1b0ef5a47c2b0": {
     "views": [
      {
       "cell_index": 16
      }
     ]
    },
    "faf1b44dd1bf4b7e97d0954ab91bc411": {
     "views": [
      {
       "cell_index": 10
      }
     ]
    },
    "fb22097342f84c4da2d16d327dc20bdf": {
     "views": [
      {
       "cell_index": 16
      }
     ]
    },
    "fbc34ebbdca44c30b15c96380a2cdfbd": {
     "views": [
      {
       "cell_index": 12
      }
     ]
    },
    "fcc83ee2c05843848249da0756d55f6a": {
     "views": [
      {
       "cell_index": 10
      }
     ]
    },
    "fd2121efcd9c40b796c4ac0b5ce891a6": {
     "views": [
      {
       "cell_index": 10
      }
     ]
    },
    "fd2a6fe4c2a2498e920bc9879ab870a5": {
     "views": [
      {
       "cell_index": 12
      }
     ]
    },
    "fd5237be71764e6eaf2336301baa9ac9": {
     "views": [
      {
       "cell_index": 15
      }
     ]
    },
    "fd64c06ea2354fcd8a15ef08707bb157": {
     "views": [
      {
       "cell_index": 10
      }
     ]
    },
    "fdd2d20ad4e84970b6a8e1d78a33477b": {
     "views": [
      {
       "cell_index": 10
      }
     ]
    },
    "fe5cd6e9118f425bb7289520e6da8072": {
     "views": [
      {
       "cell_index": 10
      }
     ]
    },
    "fe697fc106ad481e9498eec2cde4d583": {
     "views": [
      {
       "cell_index": 10
      }
     ]
    },
    "fe823904bd0d424e80fa7beba3425319": {
     "views": [
      {
       "cell_index": 10
      }
     ]
    },
    "fe8fc0fe7b644bfda40242b7efd99fc1": {
     "views": [
      {
       "cell_index": 10
      }
     ]
    },
    "fed11da730494531a07525befe2fedc9": {
     "views": [
      {
       "cell_index": 15
      }
     ]
    },
    "fed25284c7ac40ad9416544177d272e8": {
     "views": [
      {
       "cell_index": 10
      }
     ]
    },
    "fed938daf38c40ba81ac7c3c582a09eb": {
     "views": [
      {
       "cell_index": 10
      }
     ]
    },
    "ff3a7efd4a5f48fdbbe3ce70f3492b1d": {
     "views": [
      {
       "cell_index": 10
      }
     ]
    },
    "ffa56acf2a0b4e908e1808235aab118f": {
     "views": [
      {
       "cell_index": 12
      }
     ]
    },
    "ffaa5101db824720b71705d66f986bca": {
     "views": [
      {
       "cell_index": 10
      }
     ]
    },
    "ffbbfae977c6486c996d9d0c268ca67d": {
     "views": [
      {
       "cell_index": 10
      }
     ]
    }
   },
   "version": "1.2.0"
  }
 },
 "nbformat": 4,
 "nbformat_minor": 2
}
